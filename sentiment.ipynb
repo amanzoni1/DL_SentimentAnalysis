{
  "nbformat": 4,
  "nbformat_minor": 0,
  "metadata": {
    "colab": {
      "provenance": [],
      "machine_shape": "hm",
      "gpuType": "A100",
      "authorship_tag": "ABX9TyMnOuOJcddzvYBK3DLNw+as",
      "include_colab_link": true
    },
    "kernelspec": {
      "name": "python3",
      "display_name": "Python 3"
    },
    "language_info": {
      "name": "python"
    },
    "widgets": {
      "application/vnd.jupyter.widget-state+json": {
        "cbf402430ebc4e6da791fd1aa8bf1db1": {
          "model_module": "@jupyter-widgets/controls",
          "model_name": "TextareaModel",
          "model_module_version": "1.5.0",
          "state": {
            "_dom_classes": [],
            "_model_module": "@jupyter-widgets/controls",
            "_model_module_version": "1.5.0",
            "_model_name": "TextareaModel",
            "_view_count": null,
            "_view_module": "@jupyter-widgets/controls",
            "_view_module_version": "1.5.0",
            "_view_name": "TextareaView",
            "continuous_update": true,
            "description": "Review:",
            "description_tooltip": null,
            "disabled": false,
            "layout": "IPY_MODEL_fe448fadfb9245ce870147b535b4fe10",
            "placeholder": "Enter a movie review here...",
            "rows": null,
            "style": "IPY_MODEL_e6a63093d53f4848a530e018d4ccc39a",
            "value": ""
          }
        },
        "fe448fadfb9245ce870147b535b4fe10": {
          "model_module": "@jupyter-widgets/base",
          "model_name": "LayoutModel",
          "model_module_version": "1.2.0",
          "state": {
            "_model_module": "@jupyter-widgets/base",
            "_model_module_version": "1.2.0",
            "_model_name": "LayoutModel",
            "_view_count": null,
            "_view_module": "@jupyter-widgets/base",
            "_view_module_version": "1.2.0",
            "_view_name": "LayoutView",
            "align_content": null,
            "align_items": null,
            "align_self": null,
            "border": null,
            "bottom": null,
            "display": null,
            "flex": null,
            "flex_flow": null,
            "grid_area": null,
            "grid_auto_columns": null,
            "grid_auto_flow": null,
            "grid_auto_rows": null,
            "grid_column": null,
            "grid_gap": null,
            "grid_row": null,
            "grid_template_areas": null,
            "grid_template_columns": null,
            "grid_template_rows": null,
            "height": "100px",
            "justify_content": null,
            "justify_items": null,
            "left": null,
            "margin": null,
            "max_height": null,
            "max_width": null,
            "min_height": null,
            "min_width": null,
            "object_fit": null,
            "object_position": null,
            "order": null,
            "overflow": null,
            "overflow_x": null,
            "overflow_y": null,
            "padding": null,
            "right": null,
            "top": null,
            "visibility": null,
            "width": "670px"
          }
        },
        "e6a63093d53f4848a530e018d4ccc39a": {
          "model_module": "@jupyter-widgets/controls",
          "model_name": "DescriptionStyleModel",
          "model_module_version": "1.5.0",
          "state": {
            "_model_module": "@jupyter-widgets/controls",
            "_model_module_version": "1.5.0",
            "_model_name": "DescriptionStyleModel",
            "_view_count": null,
            "_view_module": "@jupyter-widgets/base",
            "_view_module_version": "1.2.0",
            "_view_name": "StyleView",
            "description_width": ""
          }
        },
        "ead989372baf4484b1031bbaee121812": {
          "model_module": "@jupyter-widgets/controls",
          "model_name": "ButtonModel",
          "model_module_version": "1.5.0",
          "state": {
            "_dom_classes": [],
            "_model_module": "@jupyter-widgets/controls",
            "_model_module_version": "1.5.0",
            "_model_name": "ButtonModel",
            "_view_count": null,
            "_view_module": "@jupyter-widgets/controls",
            "_view_module_version": "1.5.0",
            "_view_name": "ButtonView",
            "button_style": "success",
            "description": "Predict Sentiment",
            "disabled": false,
            "icon": "check",
            "layout": "IPY_MODEL_df8a867fc9f04bd09df0fa230b26b54c",
            "style": "IPY_MODEL_bb55bc7f53fb45419c91ab2146ea6852",
            "tooltip": "Click to predict sentiment"
          }
        },
        "df8a867fc9f04bd09df0fa230b26b54c": {
          "model_module": "@jupyter-widgets/base",
          "model_name": "LayoutModel",
          "model_module_version": "1.2.0",
          "state": {
            "_model_module": "@jupyter-widgets/base",
            "_model_module_version": "1.2.0",
            "_model_name": "LayoutModel",
            "_view_count": null,
            "_view_module": "@jupyter-widgets/base",
            "_view_module_version": "1.2.0",
            "_view_name": "LayoutView",
            "align_content": null,
            "align_items": null,
            "align_self": null,
            "border": null,
            "bottom": null,
            "display": null,
            "flex": null,
            "flex_flow": null,
            "grid_area": null,
            "grid_auto_columns": null,
            "grid_auto_flow": null,
            "grid_auto_rows": null,
            "grid_column": null,
            "grid_gap": null,
            "grid_row": null,
            "grid_template_areas": null,
            "grid_template_columns": null,
            "grid_template_rows": null,
            "height": null,
            "justify_content": null,
            "justify_items": null,
            "left": null,
            "margin": "12px 0px 0px 92px",
            "max_height": null,
            "max_width": null,
            "min_height": null,
            "min_width": null,
            "object_fit": null,
            "object_position": null,
            "order": null,
            "overflow": null,
            "overflow_x": null,
            "overflow_y": null,
            "padding": null,
            "right": null,
            "top": null,
            "visibility": null,
            "width": null
          }
        },
        "bb55bc7f53fb45419c91ab2146ea6852": {
          "model_module": "@jupyter-widgets/controls",
          "model_name": "ButtonStyleModel",
          "model_module_version": "1.5.0",
          "state": {
            "_model_module": "@jupyter-widgets/controls",
            "_model_module_version": "1.5.0",
            "_model_name": "ButtonStyleModel",
            "_view_count": null,
            "_view_module": "@jupyter-widgets/base",
            "_view_module_version": "1.2.0",
            "_view_name": "StyleView",
            "button_color": null,
            "font_weight": ""
          }
        },
        "163f45ebe4ef4ae5b30ed19a09615019": {
          "model_module": "@jupyter-widgets/controls",
          "model_name": "LabelModel",
          "model_module_version": "1.5.0",
          "state": {
            "_dom_classes": [],
            "_model_module": "@jupyter-widgets/controls",
            "_model_module_version": "1.5.0",
            "_model_name": "LabelModel",
            "_view_count": null,
            "_view_module": "@jupyter-widgets/controls",
            "_view_module_version": "1.5.0",
            "_view_name": "LabelView",
            "description": "",
            "description_tooltip": null,
            "layout": "IPY_MODEL_14f3812e5f6c4bc2b7e3a30269757162",
            "placeholder": "​",
            "style": "IPY_MODEL_8c823366a28748b7a48582e8715a61ee",
            "value": "Sentiment: N/A"
          }
        },
        "14f3812e5f6c4bc2b7e3a30269757162": {
          "model_module": "@jupyter-widgets/base",
          "model_name": "LayoutModel",
          "model_module_version": "1.2.0",
          "state": {
            "_model_module": "@jupyter-widgets/base",
            "_model_module_version": "1.2.0",
            "_model_name": "LayoutModel",
            "_view_count": null,
            "_view_module": "@jupyter-widgets/base",
            "_view_module_version": "1.2.0",
            "_view_name": "LayoutView",
            "align_content": null,
            "align_items": null,
            "align_self": null,
            "border": null,
            "bottom": null,
            "display": null,
            "flex": null,
            "flex_flow": null,
            "grid_area": null,
            "grid_auto_columns": null,
            "grid_auto_flow": null,
            "grid_auto_rows": null,
            "grid_column": null,
            "grid_gap": null,
            "grid_row": null,
            "grid_template_areas": null,
            "grid_template_columns": null,
            "grid_template_rows": null,
            "height": null,
            "justify_content": null,
            "justify_items": null,
            "left": null,
            "margin": "8px 0px 0px 96px",
            "max_height": null,
            "max_width": null,
            "min_height": null,
            "min_width": null,
            "object_fit": null,
            "object_position": null,
            "order": null,
            "overflow": null,
            "overflow_x": null,
            "overflow_y": null,
            "padding": null,
            "right": null,
            "top": null,
            "visibility": null,
            "width": null
          }
        },
        "8c823366a28748b7a48582e8715a61ee": {
          "model_module": "@jupyter-widgets/controls",
          "model_name": "DescriptionStyleModel",
          "model_module_version": "1.5.0",
          "state": {
            "_model_module": "@jupyter-widgets/controls",
            "_model_module_version": "1.5.0",
            "_model_name": "DescriptionStyleModel",
            "_view_count": null,
            "_view_module": "@jupyter-widgets/base",
            "_view_module_version": "1.2.0",
            "_view_name": "StyleView",
            "description_width": ""
          }
        },
        "cee3aa3d3f784cf48630893c54f05bde": {
          "model_module": "@jupyter-widgets/controls",
          "model_name": "HBoxModel",
          "model_module_version": "1.5.0",
          "state": {
            "_dom_classes": [],
            "_model_module": "@jupyter-widgets/controls",
            "_model_module_version": "1.5.0",
            "_model_name": "HBoxModel",
            "_view_count": null,
            "_view_module": "@jupyter-widgets/controls",
            "_view_module_version": "1.5.0",
            "_view_name": "HBoxView",
            "box_style": "",
            "children": [
              "IPY_MODEL_01d0552c5ede4c149bceeb052b4bbc1c",
              "IPY_MODEL_c0951b0419ab44bbb31533a7e6955447",
              "IPY_MODEL_66fab3680fc94706a0ab3ac46125beb2"
            ],
            "layout": "IPY_MODEL_f66c6802903a4ca8b0aa93992131df3b"
          }
        },
        "01d0552c5ede4c149bceeb052b4bbc1c": {
          "model_module": "@jupyter-widgets/controls",
          "model_name": "HTMLModel",
          "model_module_version": "1.5.0",
          "state": {
            "_dom_classes": [],
            "_model_module": "@jupyter-widgets/controls",
            "_model_module_version": "1.5.0",
            "_model_name": "HTMLModel",
            "_view_count": null,
            "_view_module": "@jupyter-widgets/controls",
            "_view_module_version": "1.5.0",
            "_view_name": "HTMLView",
            "description": "",
            "description_tooltip": null,
            "layout": "IPY_MODEL_dee10c50fc664ceabdeac0393a637fff",
            "placeholder": "​",
            "style": "IPY_MODEL_ce1610b833424dc092d9207fc4127215",
            "value": "tokenizer_config.json: 100%"
          }
        },
        "c0951b0419ab44bbb31533a7e6955447": {
          "model_module": "@jupyter-widgets/controls",
          "model_name": "FloatProgressModel",
          "model_module_version": "1.5.0",
          "state": {
            "_dom_classes": [],
            "_model_module": "@jupyter-widgets/controls",
            "_model_module_version": "1.5.0",
            "_model_name": "FloatProgressModel",
            "_view_count": null,
            "_view_module": "@jupyter-widgets/controls",
            "_view_module_version": "1.5.0",
            "_view_name": "ProgressView",
            "bar_style": "success",
            "description": "",
            "description_tooltip": null,
            "layout": "IPY_MODEL_9dcb9c7223e34fa896970e448dcee0d5",
            "max": 48,
            "min": 0,
            "orientation": "horizontal",
            "style": "IPY_MODEL_492dab14100f4e70b1832dd039e00c40",
            "value": 48
          }
        },
        "66fab3680fc94706a0ab3ac46125beb2": {
          "model_module": "@jupyter-widgets/controls",
          "model_name": "HTMLModel",
          "model_module_version": "1.5.0",
          "state": {
            "_dom_classes": [],
            "_model_module": "@jupyter-widgets/controls",
            "_model_module_version": "1.5.0",
            "_model_name": "HTMLModel",
            "_view_count": null,
            "_view_module": "@jupyter-widgets/controls",
            "_view_module_version": "1.5.0",
            "_view_name": "HTMLView",
            "description": "",
            "description_tooltip": null,
            "layout": "IPY_MODEL_5ace810d883444fb93420605a8ea3e21",
            "placeholder": "​",
            "style": "IPY_MODEL_bfcc760adab64b089523186b491c7ab2",
            "value": " 48.0/48.0 [00:00&lt;00:00, 3.55kB/s]"
          }
        },
        "f66c6802903a4ca8b0aa93992131df3b": {
          "model_module": "@jupyter-widgets/base",
          "model_name": "LayoutModel",
          "model_module_version": "1.2.0",
          "state": {
            "_model_module": "@jupyter-widgets/base",
            "_model_module_version": "1.2.0",
            "_model_name": "LayoutModel",
            "_view_count": null,
            "_view_module": "@jupyter-widgets/base",
            "_view_module_version": "1.2.0",
            "_view_name": "LayoutView",
            "align_content": null,
            "align_items": null,
            "align_self": null,
            "border": null,
            "bottom": null,
            "display": null,
            "flex": null,
            "flex_flow": null,
            "grid_area": null,
            "grid_auto_columns": null,
            "grid_auto_flow": null,
            "grid_auto_rows": null,
            "grid_column": null,
            "grid_gap": null,
            "grid_row": null,
            "grid_template_areas": null,
            "grid_template_columns": null,
            "grid_template_rows": null,
            "height": null,
            "justify_content": null,
            "justify_items": null,
            "left": null,
            "margin": null,
            "max_height": null,
            "max_width": null,
            "min_height": null,
            "min_width": null,
            "object_fit": null,
            "object_position": null,
            "order": null,
            "overflow": null,
            "overflow_x": null,
            "overflow_y": null,
            "padding": null,
            "right": null,
            "top": null,
            "visibility": null,
            "width": null
          }
        },
        "dee10c50fc664ceabdeac0393a637fff": {
          "model_module": "@jupyter-widgets/base",
          "model_name": "LayoutModel",
          "model_module_version": "1.2.0",
          "state": {
            "_model_module": "@jupyter-widgets/base",
            "_model_module_version": "1.2.0",
            "_model_name": "LayoutModel",
            "_view_count": null,
            "_view_module": "@jupyter-widgets/base",
            "_view_module_version": "1.2.0",
            "_view_name": "LayoutView",
            "align_content": null,
            "align_items": null,
            "align_self": null,
            "border": null,
            "bottom": null,
            "display": null,
            "flex": null,
            "flex_flow": null,
            "grid_area": null,
            "grid_auto_columns": null,
            "grid_auto_flow": null,
            "grid_auto_rows": null,
            "grid_column": null,
            "grid_gap": null,
            "grid_row": null,
            "grid_template_areas": null,
            "grid_template_columns": null,
            "grid_template_rows": null,
            "height": null,
            "justify_content": null,
            "justify_items": null,
            "left": null,
            "margin": null,
            "max_height": null,
            "max_width": null,
            "min_height": null,
            "min_width": null,
            "object_fit": null,
            "object_position": null,
            "order": null,
            "overflow": null,
            "overflow_x": null,
            "overflow_y": null,
            "padding": null,
            "right": null,
            "top": null,
            "visibility": null,
            "width": null
          }
        },
        "ce1610b833424dc092d9207fc4127215": {
          "model_module": "@jupyter-widgets/controls",
          "model_name": "DescriptionStyleModel",
          "model_module_version": "1.5.0",
          "state": {
            "_model_module": "@jupyter-widgets/controls",
            "_model_module_version": "1.5.0",
            "_model_name": "DescriptionStyleModel",
            "_view_count": null,
            "_view_module": "@jupyter-widgets/base",
            "_view_module_version": "1.2.0",
            "_view_name": "StyleView",
            "description_width": ""
          }
        },
        "9dcb9c7223e34fa896970e448dcee0d5": {
          "model_module": "@jupyter-widgets/base",
          "model_name": "LayoutModel",
          "model_module_version": "1.2.0",
          "state": {
            "_model_module": "@jupyter-widgets/base",
            "_model_module_version": "1.2.0",
            "_model_name": "LayoutModel",
            "_view_count": null,
            "_view_module": "@jupyter-widgets/base",
            "_view_module_version": "1.2.0",
            "_view_name": "LayoutView",
            "align_content": null,
            "align_items": null,
            "align_self": null,
            "border": null,
            "bottom": null,
            "display": null,
            "flex": null,
            "flex_flow": null,
            "grid_area": null,
            "grid_auto_columns": null,
            "grid_auto_flow": null,
            "grid_auto_rows": null,
            "grid_column": null,
            "grid_gap": null,
            "grid_row": null,
            "grid_template_areas": null,
            "grid_template_columns": null,
            "grid_template_rows": null,
            "height": null,
            "justify_content": null,
            "justify_items": null,
            "left": null,
            "margin": null,
            "max_height": null,
            "max_width": null,
            "min_height": null,
            "min_width": null,
            "object_fit": null,
            "object_position": null,
            "order": null,
            "overflow": null,
            "overflow_x": null,
            "overflow_y": null,
            "padding": null,
            "right": null,
            "top": null,
            "visibility": null,
            "width": null
          }
        },
        "492dab14100f4e70b1832dd039e00c40": {
          "model_module": "@jupyter-widgets/controls",
          "model_name": "ProgressStyleModel",
          "model_module_version": "1.5.0",
          "state": {
            "_model_module": "@jupyter-widgets/controls",
            "_model_module_version": "1.5.0",
            "_model_name": "ProgressStyleModel",
            "_view_count": null,
            "_view_module": "@jupyter-widgets/base",
            "_view_module_version": "1.2.0",
            "_view_name": "StyleView",
            "bar_color": null,
            "description_width": ""
          }
        },
        "5ace810d883444fb93420605a8ea3e21": {
          "model_module": "@jupyter-widgets/base",
          "model_name": "LayoutModel",
          "model_module_version": "1.2.0",
          "state": {
            "_model_module": "@jupyter-widgets/base",
            "_model_module_version": "1.2.0",
            "_model_name": "LayoutModel",
            "_view_count": null,
            "_view_module": "@jupyter-widgets/base",
            "_view_module_version": "1.2.0",
            "_view_name": "LayoutView",
            "align_content": null,
            "align_items": null,
            "align_self": null,
            "border": null,
            "bottom": null,
            "display": null,
            "flex": null,
            "flex_flow": null,
            "grid_area": null,
            "grid_auto_columns": null,
            "grid_auto_flow": null,
            "grid_auto_rows": null,
            "grid_column": null,
            "grid_gap": null,
            "grid_row": null,
            "grid_template_areas": null,
            "grid_template_columns": null,
            "grid_template_rows": null,
            "height": null,
            "justify_content": null,
            "justify_items": null,
            "left": null,
            "margin": null,
            "max_height": null,
            "max_width": null,
            "min_height": null,
            "min_width": null,
            "object_fit": null,
            "object_position": null,
            "order": null,
            "overflow": null,
            "overflow_x": null,
            "overflow_y": null,
            "padding": null,
            "right": null,
            "top": null,
            "visibility": null,
            "width": null
          }
        },
        "bfcc760adab64b089523186b491c7ab2": {
          "model_module": "@jupyter-widgets/controls",
          "model_name": "DescriptionStyleModel",
          "model_module_version": "1.5.0",
          "state": {
            "_model_module": "@jupyter-widgets/controls",
            "_model_module_version": "1.5.0",
            "_model_name": "DescriptionStyleModel",
            "_view_count": null,
            "_view_module": "@jupyter-widgets/base",
            "_view_module_version": "1.2.0",
            "_view_name": "StyleView",
            "description_width": ""
          }
        },
        "91bb09cd1783485e853dc6a5720c3fd0": {
          "model_module": "@jupyter-widgets/controls",
          "model_name": "HBoxModel",
          "model_module_version": "1.5.0",
          "state": {
            "_dom_classes": [],
            "_model_module": "@jupyter-widgets/controls",
            "_model_module_version": "1.5.0",
            "_model_name": "HBoxModel",
            "_view_count": null,
            "_view_module": "@jupyter-widgets/controls",
            "_view_module_version": "1.5.0",
            "_view_name": "HBoxView",
            "box_style": "",
            "children": [
              "IPY_MODEL_8857739a45a448f19f39b44af79c8287",
              "IPY_MODEL_3344e6b3f8c34de49c39977fa6196088",
              "IPY_MODEL_a215ce34ad1f4c96a080d104669261fd"
            ],
            "layout": "IPY_MODEL_d8f572fa6eb6495eb547dacfd903efc8"
          }
        },
        "8857739a45a448f19f39b44af79c8287": {
          "model_module": "@jupyter-widgets/controls",
          "model_name": "HTMLModel",
          "model_module_version": "1.5.0",
          "state": {
            "_dom_classes": [],
            "_model_module": "@jupyter-widgets/controls",
            "_model_module_version": "1.5.0",
            "_model_name": "HTMLModel",
            "_view_count": null,
            "_view_module": "@jupyter-widgets/controls",
            "_view_module_version": "1.5.0",
            "_view_name": "HTMLView",
            "description": "",
            "description_tooltip": null,
            "layout": "IPY_MODEL_3564b006b6b542c9bf72c4679558c051",
            "placeholder": "​",
            "style": "IPY_MODEL_a97470de807a4d0cbba1600043cce7f0",
            "value": "vocab.txt: 100%"
          }
        },
        "3344e6b3f8c34de49c39977fa6196088": {
          "model_module": "@jupyter-widgets/controls",
          "model_name": "FloatProgressModel",
          "model_module_version": "1.5.0",
          "state": {
            "_dom_classes": [],
            "_model_module": "@jupyter-widgets/controls",
            "_model_module_version": "1.5.0",
            "_model_name": "FloatProgressModel",
            "_view_count": null,
            "_view_module": "@jupyter-widgets/controls",
            "_view_module_version": "1.5.0",
            "_view_name": "ProgressView",
            "bar_style": "success",
            "description": "",
            "description_tooltip": null,
            "layout": "IPY_MODEL_650aec79e5f54fb0bbbdaebf9012990b",
            "max": 231508,
            "min": 0,
            "orientation": "horizontal",
            "style": "IPY_MODEL_26ea6f97b0174c2cbab1fff47e62a909",
            "value": 231508
          }
        },
        "a215ce34ad1f4c96a080d104669261fd": {
          "model_module": "@jupyter-widgets/controls",
          "model_name": "HTMLModel",
          "model_module_version": "1.5.0",
          "state": {
            "_dom_classes": [],
            "_model_module": "@jupyter-widgets/controls",
            "_model_module_version": "1.5.0",
            "_model_name": "HTMLModel",
            "_view_count": null,
            "_view_module": "@jupyter-widgets/controls",
            "_view_module_version": "1.5.0",
            "_view_name": "HTMLView",
            "description": "",
            "description_tooltip": null,
            "layout": "IPY_MODEL_dd9e8573005243ee94c74db938667484",
            "placeholder": "​",
            "style": "IPY_MODEL_bacd8ca06e7d4c4eb51fbf2478f1dadc",
            "value": " 232k/232k [00:00&lt;00:00, 4.56MB/s]"
          }
        },
        "d8f572fa6eb6495eb547dacfd903efc8": {
          "model_module": "@jupyter-widgets/base",
          "model_name": "LayoutModel",
          "model_module_version": "1.2.0",
          "state": {
            "_model_module": "@jupyter-widgets/base",
            "_model_module_version": "1.2.0",
            "_model_name": "LayoutModel",
            "_view_count": null,
            "_view_module": "@jupyter-widgets/base",
            "_view_module_version": "1.2.0",
            "_view_name": "LayoutView",
            "align_content": null,
            "align_items": null,
            "align_self": null,
            "border": null,
            "bottom": null,
            "display": null,
            "flex": null,
            "flex_flow": null,
            "grid_area": null,
            "grid_auto_columns": null,
            "grid_auto_flow": null,
            "grid_auto_rows": null,
            "grid_column": null,
            "grid_gap": null,
            "grid_row": null,
            "grid_template_areas": null,
            "grid_template_columns": null,
            "grid_template_rows": null,
            "height": null,
            "justify_content": null,
            "justify_items": null,
            "left": null,
            "margin": null,
            "max_height": null,
            "max_width": null,
            "min_height": null,
            "min_width": null,
            "object_fit": null,
            "object_position": null,
            "order": null,
            "overflow": null,
            "overflow_x": null,
            "overflow_y": null,
            "padding": null,
            "right": null,
            "top": null,
            "visibility": null,
            "width": null
          }
        },
        "3564b006b6b542c9bf72c4679558c051": {
          "model_module": "@jupyter-widgets/base",
          "model_name": "LayoutModel",
          "model_module_version": "1.2.0",
          "state": {
            "_model_module": "@jupyter-widgets/base",
            "_model_module_version": "1.2.0",
            "_model_name": "LayoutModel",
            "_view_count": null,
            "_view_module": "@jupyter-widgets/base",
            "_view_module_version": "1.2.0",
            "_view_name": "LayoutView",
            "align_content": null,
            "align_items": null,
            "align_self": null,
            "border": null,
            "bottom": null,
            "display": null,
            "flex": null,
            "flex_flow": null,
            "grid_area": null,
            "grid_auto_columns": null,
            "grid_auto_flow": null,
            "grid_auto_rows": null,
            "grid_column": null,
            "grid_gap": null,
            "grid_row": null,
            "grid_template_areas": null,
            "grid_template_columns": null,
            "grid_template_rows": null,
            "height": null,
            "justify_content": null,
            "justify_items": null,
            "left": null,
            "margin": null,
            "max_height": null,
            "max_width": null,
            "min_height": null,
            "min_width": null,
            "object_fit": null,
            "object_position": null,
            "order": null,
            "overflow": null,
            "overflow_x": null,
            "overflow_y": null,
            "padding": null,
            "right": null,
            "top": null,
            "visibility": null,
            "width": null
          }
        },
        "a97470de807a4d0cbba1600043cce7f0": {
          "model_module": "@jupyter-widgets/controls",
          "model_name": "DescriptionStyleModel",
          "model_module_version": "1.5.0",
          "state": {
            "_model_module": "@jupyter-widgets/controls",
            "_model_module_version": "1.5.0",
            "_model_name": "DescriptionStyleModel",
            "_view_count": null,
            "_view_module": "@jupyter-widgets/base",
            "_view_module_version": "1.2.0",
            "_view_name": "StyleView",
            "description_width": ""
          }
        },
        "650aec79e5f54fb0bbbdaebf9012990b": {
          "model_module": "@jupyter-widgets/base",
          "model_name": "LayoutModel",
          "model_module_version": "1.2.0",
          "state": {
            "_model_module": "@jupyter-widgets/base",
            "_model_module_version": "1.2.0",
            "_model_name": "LayoutModel",
            "_view_count": null,
            "_view_module": "@jupyter-widgets/base",
            "_view_module_version": "1.2.0",
            "_view_name": "LayoutView",
            "align_content": null,
            "align_items": null,
            "align_self": null,
            "border": null,
            "bottom": null,
            "display": null,
            "flex": null,
            "flex_flow": null,
            "grid_area": null,
            "grid_auto_columns": null,
            "grid_auto_flow": null,
            "grid_auto_rows": null,
            "grid_column": null,
            "grid_gap": null,
            "grid_row": null,
            "grid_template_areas": null,
            "grid_template_columns": null,
            "grid_template_rows": null,
            "height": null,
            "justify_content": null,
            "justify_items": null,
            "left": null,
            "margin": null,
            "max_height": null,
            "max_width": null,
            "min_height": null,
            "min_width": null,
            "object_fit": null,
            "object_position": null,
            "order": null,
            "overflow": null,
            "overflow_x": null,
            "overflow_y": null,
            "padding": null,
            "right": null,
            "top": null,
            "visibility": null,
            "width": null
          }
        },
        "26ea6f97b0174c2cbab1fff47e62a909": {
          "model_module": "@jupyter-widgets/controls",
          "model_name": "ProgressStyleModel",
          "model_module_version": "1.5.0",
          "state": {
            "_model_module": "@jupyter-widgets/controls",
            "_model_module_version": "1.5.0",
            "_model_name": "ProgressStyleModel",
            "_view_count": null,
            "_view_module": "@jupyter-widgets/base",
            "_view_module_version": "1.2.0",
            "_view_name": "StyleView",
            "bar_color": null,
            "description_width": ""
          }
        },
        "dd9e8573005243ee94c74db938667484": {
          "model_module": "@jupyter-widgets/base",
          "model_name": "LayoutModel",
          "model_module_version": "1.2.0",
          "state": {
            "_model_module": "@jupyter-widgets/base",
            "_model_module_version": "1.2.0",
            "_model_name": "LayoutModel",
            "_view_count": null,
            "_view_module": "@jupyter-widgets/base",
            "_view_module_version": "1.2.0",
            "_view_name": "LayoutView",
            "align_content": null,
            "align_items": null,
            "align_self": null,
            "border": null,
            "bottom": null,
            "display": null,
            "flex": null,
            "flex_flow": null,
            "grid_area": null,
            "grid_auto_columns": null,
            "grid_auto_flow": null,
            "grid_auto_rows": null,
            "grid_column": null,
            "grid_gap": null,
            "grid_row": null,
            "grid_template_areas": null,
            "grid_template_columns": null,
            "grid_template_rows": null,
            "height": null,
            "justify_content": null,
            "justify_items": null,
            "left": null,
            "margin": null,
            "max_height": null,
            "max_width": null,
            "min_height": null,
            "min_width": null,
            "object_fit": null,
            "object_position": null,
            "order": null,
            "overflow": null,
            "overflow_x": null,
            "overflow_y": null,
            "padding": null,
            "right": null,
            "top": null,
            "visibility": null,
            "width": null
          }
        },
        "bacd8ca06e7d4c4eb51fbf2478f1dadc": {
          "model_module": "@jupyter-widgets/controls",
          "model_name": "DescriptionStyleModel",
          "model_module_version": "1.5.0",
          "state": {
            "_model_module": "@jupyter-widgets/controls",
            "_model_module_version": "1.5.0",
            "_model_name": "DescriptionStyleModel",
            "_view_count": null,
            "_view_module": "@jupyter-widgets/base",
            "_view_module_version": "1.2.0",
            "_view_name": "StyleView",
            "description_width": ""
          }
        },
        "b32deddffcca4cac897d0fb5498f2826": {
          "model_module": "@jupyter-widgets/controls",
          "model_name": "HBoxModel",
          "model_module_version": "1.5.0",
          "state": {
            "_dom_classes": [],
            "_model_module": "@jupyter-widgets/controls",
            "_model_module_version": "1.5.0",
            "_model_name": "HBoxModel",
            "_view_count": null,
            "_view_module": "@jupyter-widgets/controls",
            "_view_module_version": "1.5.0",
            "_view_name": "HBoxView",
            "box_style": "",
            "children": [
              "IPY_MODEL_eb8bd95d5c774356b288f4bc0e0514d0",
              "IPY_MODEL_9fd6d7d445504a379451b89244ff5eb9",
              "IPY_MODEL_3867a3822ce342e1ac35016518e38135"
            ],
            "layout": "IPY_MODEL_3074aefecfbb4581849bfed99b5f60a8"
          }
        },
        "eb8bd95d5c774356b288f4bc0e0514d0": {
          "model_module": "@jupyter-widgets/controls",
          "model_name": "HTMLModel",
          "model_module_version": "1.5.0",
          "state": {
            "_dom_classes": [],
            "_model_module": "@jupyter-widgets/controls",
            "_model_module_version": "1.5.0",
            "_model_name": "HTMLModel",
            "_view_count": null,
            "_view_module": "@jupyter-widgets/controls",
            "_view_module_version": "1.5.0",
            "_view_name": "HTMLView",
            "description": "",
            "description_tooltip": null,
            "layout": "IPY_MODEL_b879b6f0d7af40d5aba857ae9cd58bea",
            "placeholder": "​",
            "style": "IPY_MODEL_92dc5dc649814c0c8c7f68ba9d7692ff",
            "value": "tokenizer.json: 100%"
          }
        },
        "9fd6d7d445504a379451b89244ff5eb9": {
          "model_module": "@jupyter-widgets/controls",
          "model_name": "FloatProgressModel",
          "model_module_version": "1.5.0",
          "state": {
            "_dom_classes": [],
            "_model_module": "@jupyter-widgets/controls",
            "_model_module_version": "1.5.0",
            "_model_name": "FloatProgressModel",
            "_view_count": null,
            "_view_module": "@jupyter-widgets/controls",
            "_view_module_version": "1.5.0",
            "_view_name": "ProgressView",
            "bar_style": "success",
            "description": "",
            "description_tooltip": null,
            "layout": "IPY_MODEL_893cb7c0979c4115ac79aff53436b0d1",
            "max": 466062,
            "min": 0,
            "orientation": "horizontal",
            "style": "IPY_MODEL_8525cfdfc38b4493b60de71e1710b3ad",
            "value": 466062
          }
        },
        "3867a3822ce342e1ac35016518e38135": {
          "model_module": "@jupyter-widgets/controls",
          "model_name": "HTMLModel",
          "model_module_version": "1.5.0",
          "state": {
            "_dom_classes": [],
            "_model_module": "@jupyter-widgets/controls",
            "_model_module_version": "1.5.0",
            "_model_name": "HTMLModel",
            "_view_count": null,
            "_view_module": "@jupyter-widgets/controls",
            "_view_module_version": "1.5.0",
            "_view_name": "HTMLView",
            "description": "",
            "description_tooltip": null,
            "layout": "IPY_MODEL_1dfd334654284676b22c3a2132f7eb49",
            "placeholder": "​",
            "style": "IPY_MODEL_aaf6ee5561eb49ce9155cf8ab5368f6c",
            "value": " 466k/466k [00:00&lt;00:00, 17.2MB/s]"
          }
        },
        "3074aefecfbb4581849bfed99b5f60a8": {
          "model_module": "@jupyter-widgets/base",
          "model_name": "LayoutModel",
          "model_module_version": "1.2.0",
          "state": {
            "_model_module": "@jupyter-widgets/base",
            "_model_module_version": "1.2.0",
            "_model_name": "LayoutModel",
            "_view_count": null,
            "_view_module": "@jupyter-widgets/base",
            "_view_module_version": "1.2.0",
            "_view_name": "LayoutView",
            "align_content": null,
            "align_items": null,
            "align_self": null,
            "border": null,
            "bottom": null,
            "display": null,
            "flex": null,
            "flex_flow": null,
            "grid_area": null,
            "grid_auto_columns": null,
            "grid_auto_flow": null,
            "grid_auto_rows": null,
            "grid_column": null,
            "grid_gap": null,
            "grid_row": null,
            "grid_template_areas": null,
            "grid_template_columns": null,
            "grid_template_rows": null,
            "height": null,
            "justify_content": null,
            "justify_items": null,
            "left": null,
            "margin": null,
            "max_height": null,
            "max_width": null,
            "min_height": null,
            "min_width": null,
            "object_fit": null,
            "object_position": null,
            "order": null,
            "overflow": null,
            "overflow_x": null,
            "overflow_y": null,
            "padding": null,
            "right": null,
            "top": null,
            "visibility": null,
            "width": null
          }
        },
        "b879b6f0d7af40d5aba857ae9cd58bea": {
          "model_module": "@jupyter-widgets/base",
          "model_name": "LayoutModel",
          "model_module_version": "1.2.0",
          "state": {
            "_model_module": "@jupyter-widgets/base",
            "_model_module_version": "1.2.0",
            "_model_name": "LayoutModel",
            "_view_count": null,
            "_view_module": "@jupyter-widgets/base",
            "_view_module_version": "1.2.0",
            "_view_name": "LayoutView",
            "align_content": null,
            "align_items": null,
            "align_self": null,
            "border": null,
            "bottom": null,
            "display": null,
            "flex": null,
            "flex_flow": null,
            "grid_area": null,
            "grid_auto_columns": null,
            "grid_auto_flow": null,
            "grid_auto_rows": null,
            "grid_column": null,
            "grid_gap": null,
            "grid_row": null,
            "grid_template_areas": null,
            "grid_template_columns": null,
            "grid_template_rows": null,
            "height": null,
            "justify_content": null,
            "justify_items": null,
            "left": null,
            "margin": null,
            "max_height": null,
            "max_width": null,
            "min_height": null,
            "min_width": null,
            "object_fit": null,
            "object_position": null,
            "order": null,
            "overflow": null,
            "overflow_x": null,
            "overflow_y": null,
            "padding": null,
            "right": null,
            "top": null,
            "visibility": null,
            "width": null
          }
        },
        "92dc5dc649814c0c8c7f68ba9d7692ff": {
          "model_module": "@jupyter-widgets/controls",
          "model_name": "DescriptionStyleModel",
          "model_module_version": "1.5.0",
          "state": {
            "_model_module": "@jupyter-widgets/controls",
            "_model_module_version": "1.5.0",
            "_model_name": "DescriptionStyleModel",
            "_view_count": null,
            "_view_module": "@jupyter-widgets/base",
            "_view_module_version": "1.2.0",
            "_view_name": "StyleView",
            "description_width": ""
          }
        },
        "893cb7c0979c4115ac79aff53436b0d1": {
          "model_module": "@jupyter-widgets/base",
          "model_name": "LayoutModel",
          "model_module_version": "1.2.0",
          "state": {
            "_model_module": "@jupyter-widgets/base",
            "_model_module_version": "1.2.0",
            "_model_name": "LayoutModel",
            "_view_count": null,
            "_view_module": "@jupyter-widgets/base",
            "_view_module_version": "1.2.0",
            "_view_name": "LayoutView",
            "align_content": null,
            "align_items": null,
            "align_self": null,
            "border": null,
            "bottom": null,
            "display": null,
            "flex": null,
            "flex_flow": null,
            "grid_area": null,
            "grid_auto_columns": null,
            "grid_auto_flow": null,
            "grid_auto_rows": null,
            "grid_column": null,
            "grid_gap": null,
            "grid_row": null,
            "grid_template_areas": null,
            "grid_template_columns": null,
            "grid_template_rows": null,
            "height": null,
            "justify_content": null,
            "justify_items": null,
            "left": null,
            "margin": null,
            "max_height": null,
            "max_width": null,
            "min_height": null,
            "min_width": null,
            "object_fit": null,
            "object_position": null,
            "order": null,
            "overflow": null,
            "overflow_x": null,
            "overflow_y": null,
            "padding": null,
            "right": null,
            "top": null,
            "visibility": null,
            "width": null
          }
        },
        "8525cfdfc38b4493b60de71e1710b3ad": {
          "model_module": "@jupyter-widgets/controls",
          "model_name": "ProgressStyleModel",
          "model_module_version": "1.5.0",
          "state": {
            "_model_module": "@jupyter-widgets/controls",
            "_model_module_version": "1.5.0",
            "_model_name": "ProgressStyleModel",
            "_view_count": null,
            "_view_module": "@jupyter-widgets/base",
            "_view_module_version": "1.2.0",
            "_view_name": "StyleView",
            "bar_color": null,
            "description_width": ""
          }
        },
        "1dfd334654284676b22c3a2132f7eb49": {
          "model_module": "@jupyter-widgets/base",
          "model_name": "LayoutModel",
          "model_module_version": "1.2.0",
          "state": {
            "_model_module": "@jupyter-widgets/base",
            "_model_module_version": "1.2.0",
            "_model_name": "LayoutModel",
            "_view_count": null,
            "_view_module": "@jupyter-widgets/base",
            "_view_module_version": "1.2.0",
            "_view_name": "LayoutView",
            "align_content": null,
            "align_items": null,
            "align_self": null,
            "border": null,
            "bottom": null,
            "display": null,
            "flex": null,
            "flex_flow": null,
            "grid_area": null,
            "grid_auto_columns": null,
            "grid_auto_flow": null,
            "grid_auto_rows": null,
            "grid_column": null,
            "grid_gap": null,
            "grid_row": null,
            "grid_template_areas": null,
            "grid_template_columns": null,
            "grid_template_rows": null,
            "height": null,
            "justify_content": null,
            "justify_items": null,
            "left": null,
            "margin": null,
            "max_height": null,
            "max_width": null,
            "min_height": null,
            "min_width": null,
            "object_fit": null,
            "object_position": null,
            "order": null,
            "overflow": null,
            "overflow_x": null,
            "overflow_y": null,
            "padding": null,
            "right": null,
            "top": null,
            "visibility": null,
            "width": null
          }
        },
        "aaf6ee5561eb49ce9155cf8ab5368f6c": {
          "model_module": "@jupyter-widgets/controls",
          "model_name": "DescriptionStyleModel",
          "model_module_version": "1.5.0",
          "state": {
            "_model_module": "@jupyter-widgets/controls",
            "_model_module_version": "1.5.0",
            "_model_name": "DescriptionStyleModel",
            "_view_count": null,
            "_view_module": "@jupyter-widgets/base",
            "_view_module_version": "1.2.0",
            "_view_name": "StyleView",
            "description_width": ""
          }
        },
        "90ef2f1020ee49a19b97cca0b6cb0d4e": {
          "model_module": "@jupyter-widgets/controls",
          "model_name": "HBoxModel",
          "model_module_version": "1.5.0",
          "state": {
            "_dom_classes": [],
            "_model_module": "@jupyter-widgets/controls",
            "_model_module_version": "1.5.0",
            "_model_name": "HBoxModel",
            "_view_count": null,
            "_view_module": "@jupyter-widgets/controls",
            "_view_module_version": "1.5.0",
            "_view_name": "HBoxView",
            "box_style": "",
            "children": [
              "IPY_MODEL_96bf6fbbd09d4c94b8929c59cd0b8f46",
              "IPY_MODEL_416d49a47ae8479a8bae7dea45ba1440",
              "IPY_MODEL_fb1f4c9c25154ff2a6bf43f61a091bca"
            ],
            "layout": "IPY_MODEL_38fb59c10fa94687a63d772745a8209d"
          }
        },
        "96bf6fbbd09d4c94b8929c59cd0b8f46": {
          "model_module": "@jupyter-widgets/controls",
          "model_name": "HTMLModel",
          "model_module_version": "1.5.0",
          "state": {
            "_dom_classes": [],
            "_model_module": "@jupyter-widgets/controls",
            "_model_module_version": "1.5.0",
            "_model_name": "HTMLModel",
            "_view_count": null,
            "_view_module": "@jupyter-widgets/controls",
            "_view_module_version": "1.5.0",
            "_view_name": "HTMLView",
            "description": "",
            "description_tooltip": null,
            "layout": "IPY_MODEL_66f317f06bc147f9bb8cf7b9ece9b13c",
            "placeholder": "​",
            "style": "IPY_MODEL_0bf352245504433791d4bfd7157a9d45",
            "value": "config.json: 100%"
          }
        },
        "416d49a47ae8479a8bae7dea45ba1440": {
          "model_module": "@jupyter-widgets/controls",
          "model_name": "FloatProgressModel",
          "model_module_version": "1.5.0",
          "state": {
            "_dom_classes": [],
            "_model_module": "@jupyter-widgets/controls",
            "_model_module_version": "1.5.0",
            "_model_name": "FloatProgressModel",
            "_view_count": null,
            "_view_module": "@jupyter-widgets/controls",
            "_view_module_version": "1.5.0",
            "_view_name": "ProgressView",
            "bar_style": "success",
            "description": "",
            "description_tooltip": null,
            "layout": "IPY_MODEL_0c12f6faee0f42b6bf9a5ae8f2877ef0",
            "max": 570,
            "min": 0,
            "orientation": "horizontal",
            "style": "IPY_MODEL_79a5695895e94d5bbeb377f900504824",
            "value": 570
          }
        },
        "fb1f4c9c25154ff2a6bf43f61a091bca": {
          "model_module": "@jupyter-widgets/controls",
          "model_name": "HTMLModel",
          "model_module_version": "1.5.0",
          "state": {
            "_dom_classes": [],
            "_model_module": "@jupyter-widgets/controls",
            "_model_module_version": "1.5.0",
            "_model_name": "HTMLModel",
            "_view_count": null,
            "_view_module": "@jupyter-widgets/controls",
            "_view_module_version": "1.5.0",
            "_view_name": "HTMLView",
            "description": "",
            "description_tooltip": null,
            "layout": "IPY_MODEL_86c3a13b1cea4cc3897e4918543bd903",
            "placeholder": "​",
            "style": "IPY_MODEL_87872bb4ea954636910d712df20e4114",
            "value": " 570/570 [00:00&lt;00:00, 42.0kB/s]"
          }
        },
        "38fb59c10fa94687a63d772745a8209d": {
          "model_module": "@jupyter-widgets/base",
          "model_name": "LayoutModel",
          "model_module_version": "1.2.0",
          "state": {
            "_model_module": "@jupyter-widgets/base",
            "_model_module_version": "1.2.0",
            "_model_name": "LayoutModel",
            "_view_count": null,
            "_view_module": "@jupyter-widgets/base",
            "_view_module_version": "1.2.0",
            "_view_name": "LayoutView",
            "align_content": null,
            "align_items": null,
            "align_self": null,
            "border": null,
            "bottom": null,
            "display": null,
            "flex": null,
            "flex_flow": null,
            "grid_area": null,
            "grid_auto_columns": null,
            "grid_auto_flow": null,
            "grid_auto_rows": null,
            "grid_column": null,
            "grid_gap": null,
            "grid_row": null,
            "grid_template_areas": null,
            "grid_template_columns": null,
            "grid_template_rows": null,
            "height": null,
            "justify_content": null,
            "justify_items": null,
            "left": null,
            "margin": null,
            "max_height": null,
            "max_width": null,
            "min_height": null,
            "min_width": null,
            "object_fit": null,
            "object_position": null,
            "order": null,
            "overflow": null,
            "overflow_x": null,
            "overflow_y": null,
            "padding": null,
            "right": null,
            "top": null,
            "visibility": null,
            "width": null
          }
        },
        "66f317f06bc147f9bb8cf7b9ece9b13c": {
          "model_module": "@jupyter-widgets/base",
          "model_name": "LayoutModel",
          "model_module_version": "1.2.0",
          "state": {
            "_model_module": "@jupyter-widgets/base",
            "_model_module_version": "1.2.0",
            "_model_name": "LayoutModel",
            "_view_count": null,
            "_view_module": "@jupyter-widgets/base",
            "_view_module_version": "1.2.0",
            "_view_name": "LayoutView",
            "align_content": null,
            "align_items": null,
            "align_self": null,
            "border": null,
            "bottom": null,
            "display": null,
            "flex": null,
            "flex_flow": null,
            "grid_area": null,
            "grid_auto_columns": null,
            "grid_auto_flow": null,
            "grid_auto_rows": null,
            "grid_column": null,
            "grid_gap": null,
            "grid_row": null,
            "grid_template_areas": null,
            "grid_template_columns": null,
            "grid_template_rows": null,
            "height": null,
            "justify_content": null,
            "justify_items": null,
            "left": null,
            "margin": null,
            "max_height": null,
            "max_width": null,
            "min_height": null,
            "min_width": null,
            "object_fit": null,
            "object_position": null,
            "order": null,
            "overflow": null,
            "overflow_x": null,
            "overflow_y": null,
            "padding": null,
            "right": null,
            "top": null,
            "visibility": null,
            "width": null
          }
        },
        "0bf352245504433791d4bfd7157a9d45": {
          "model_module": "@jupyter-widgets/controls",
          "model_name": "DescriptionStyleModel",
          "model_module_version": "1.5.0",
          "state": {
            "_model_module": "@jupyter-widgets/controls",
            "_model_module_version": "1.5.0",
            "_model_name": "DescriptionStyleModel",
            "_view_count": null,
            "_view_module": "@jupyter-widgets/base",
            "_view_module_version": "1.2.0",
            "_view_name": "StyleView",
            "description_width": ""
          }
        },
        "0c12f6faee0f42b6bf9a5ae8f2877ef0": {
          "model_module": "@jupyter-widgets/base",
          "model_name": "LayoutModel",
          "model_module_version": "1.2.0",
          "state": {
            "_model_module": "@jupyter-widgets/base",
            "_model_module_version": "1.2.0",
            "_model_name": "LayoutModel",
            "_view_count": null,
            "_view_module": "@jupyter-widgets/base",
            "_view_module_version": "1.2.0",
            "_view_name": "LayoutView",
            "align_content": null,
            "align_items": null,
            "align_self": null,
            "border": null,
            "bottom": null,
            "display": null,
            "flex": null,
            "flex_flow": null,
            "grid_area": null,
            "grid_auto_columns": null,
            "grid_auto_flow": null,
            "grid_auto_rows": null,
            "grid_column": null,
            "grid_gap": null,
            "grid_row": null,
            "grid_template_areas": null,
            "grid_template_columns": null,
            "grid_template_rows": null,
            "height": null,
            "justify_content": null,
            "justify_items": null,
            "left": null,
            "margin": null,
            "max_height": null,
            "max_width": null,
            "min_height": null,
            "min_width": null,
            "object_fit": null,
            "object_position": null,
            "order": null,
            "overflow": null,
            "overflow_x": null,
            "overflow_y": null,
            "padding": null,
            "right": null,
            "top": null,
            "visibility": null,
            "width": null
          }
        },
        "79a5695895e94d5bbeb377f900504824": {
          "model_module": "@jupyter-widgets/controls",
          "model_name": "ProgressStyleModel",
          "model_module_version": "1.5.0",
          "state": {
            "_model_module": "@jupyter-widgets/controls",
            "_model_module_version": "1.5.0",
            "_model_name": "ProgressStyleModel",
            "_view_count": null,
            "_view_module": "@jupyter-widgets/base",
            "_view_module_version": "1.2.0",
            "_view_name": "StyleView",
            "bar_color": null,
            "description_width": ""
          }
        },
        "86c3a13b1cea4cc3897e4918543bd903": {
          "model_module": "@jupyter-widgets/base",
          "model_name": "LayoutModel",
          "model_module_version": "1.2.0",
          "state": {
            "_model_module": "@jupyter-widgets/base",
            "_model_module_version": "1.2.0",
            "_model_name": "LayoutModel",
            "_view_count": null,
            "_view_module": "@jupyter-widgets/base",
            "_view_module_version": "1.2.0",
            "_view_name": "LayoutView",
            "align_content": null,
            "align_items": null,
            "align_self": null,
            "border": null,
            "bottom": null,
            "display": null,
            "flex": null,
            "flex_flow": null,
            "grid_area": null,
            "grid_auto_columns": null,
            "grid_auto_flow": null,
            "grid_auto_rows": null,
            "grid_column": null,
            "grid_gap": null,
            "grid_row": null,
            "grid_template_areas": null,
            "grid_template_columns": null,
            "grid_template_rows": null,
            "height": null,
            "justify_content": null,
            "justify_items": null,
            "left": null,
            "margin": null,
            "max_height": null,
            "max_width": null,
            "min_height": null,
            "min_width": null,
            "object_fit": null,
            "object_position": null,
            "order": null,
            "overflow": null,
            "overflow_x": null,
            "overflow_y": null,
            "padding": null,
            "right": null,
            "top": null,
            "visibility": null,
            "width": null
          }
        },
        "87872bb4ea954636910d712df20e4114": {
          "model_module": "@jupyter-widgets/controls",
          "model_name": "DescriptionStyleModel",
          "model_module_version": "1.5.0",
          "state": {
            "_model_module": "@jupyter-widgets/controls",
            "_model_module_version": "1.5.0",
            "_model_name": "DescriptionStyleModel",
            "_view_count": null,
            "_view_module": "@jupyter-widgets/base",
            "_view_module_version": "1.2.0",
            "_view_name": "StyleView",
            "description_width": ""
          }
        }
      }
    },
    "accelerator": "GPU"
  },
  "cells": [
    {
      "cell_type": "markdown",
      "metadata": {
        "id": "view-in-github",
        "colab_type": "text"
      },
      "source": [
        "<a href=\"https://colab.research.google.com/github/amanzoni1/DL_SentimentAnalysis/blob/main/sentiment.ipynb\" target=\"_parent\"><img src=\"https://colab.research.google.com/assets/colab-badge.svg\" alt=\"Open In Colab\"/></a>"
      ]
    },
    {
      "cell_type": "markdown",
      "source": [
        "![sentiment-analysis-blog-header-scaled.jpg](data:image/jpeg;base64,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)"
      ],
      "metadata": {
        "id": "JQCLc2HGwOmM"
      }
    },
    {
      "cell_type": "markdown",
      "source": [
        "# Sentiment Analysis on Movie Reviews\n",
        "\n",
        "## Project Overview\n",
        "\n",
        "In the realm of Natural Language Processing (NLP), Sentiment Analysis stands out as a pivotal task with applications spanning from customer feedback interpretation to social media sentiment monitoring. This project is centered around developing a robust text processing pipeline aimed at analyzing movie reviews and accurately classifying them as positive or negative. By harnessing the power of advanced deep learning models, our goal is to create a system that not only gauges public opinion effectively but also serves as a foundation for applications in recommendation systems, market analysis, and content moderation.\n",
        "\n",
        "Leveraging the IMDb Movie Reviews dataset, which offers a balanced collection of 50,000 reviews split equally between positive and negative sentiments, we embark on a binary sentiment classification journey. The project integrates sophisticated deep learning architectures, including LSTM (Long Short-Term Memory) networks and Transformer-based models like BERT (Bidirectional Encoder Representations from Transformers), to perform precise sentiment analysis on textual data. This endeavor not only aims to deliver high-accuracy results suitable for practical deployment but also serves as an educational exploration into key NLP methodologies and best practices.\n",
        "\n",
        "## Key Objectives\n",
        "\n",
        "1. **Develop and Train a Neural Network Model**\n",
        "   - **Utilize Pre-trained Models:** Leverage pre-trained embeddings and models such as LSTM and BERT, fine-tuning them to cater to our specific sentiment analysis requirements.\n",
        "\n",
        "2. **Implement Sentiment Classification**\n",
        "   - **Accurate Sentiment Detection:** Classify movie reviews as positive or negative with high precision using advanced deep learning techniques.\n",
        "\n",
        "3. **Data Handling and Preprocessing**\n",
        "   - **Robust Data Processing:** Clean and preprocess textual data to enhance model performance and reliability.\n",
        "\n",
        "4. **Model Evaluation and Visualization**\n",
        "   - **Comprehensive Evaluation:** Assess model performance using metrics like accuracy, precision, recall, and F1-score.\n",
        "   - **Visualization:** Visualize training progress and evaluation results to gain insights into model behavior.\n",
        "\n",
        "5. **Create an Interactive Pipeline**\n",
        "   - **User-Friendly Interface:** Develop an interactive interface within Google Colab that allows users to input custom movie reviews and receive real-time sentiment predictions.\n",
        "\n",
        "## Project Details\n",
        "\n",
        "### Dataset\n",
        "\n",
        "**IMDb Movie Reviews Dataset**\n",
        "\n",
        "- **Description:** A balanced dataset containing 50,000 movie reviews labeled as positive or negative. The dataset is divided equally into training and testing sets, with 25,000 reviews for each sentiment.\n",
        "  \n",
        "- **Usage in Project:** Focused on the binary sentiment classification task, the dataset is utilized to train and validate our models effectively. The dataset is already organized into Train and Test directories, each containing `pos` and `neg` subdirectories with corresponding reviews.\n",
        "\n",
        "### Task\n",
        "\n",
        "Develop a pipeline that can:\n",
        "\n",
        "1. **Classify Sentiments:** Accurately classify movie reviews as positive or negative.\n",
        "2. **Handle Text Data:** Efficiently process and preprocess textual data to prepare it for model training.\n",
        "3. **Evaluate Performance:** Assess the model’s performance using relevant metrics to ensure reliability.\n",
        "4. **Interactive Testing:** Allow users to input custom reviews and receive sentiment predictions in real-time.\n",
        "\n",
        "## Approach"
      ],
      "metadata": {
        "id": "EdhT9aKHpIZa"
      }
    },
    {
      "cell_type": "markdown",
      "source": [
        "### 1. Import Necessary Libraries\n",
        "\n",
        "Begin by installing and importing all the essential libraries required for data handling, model building, training, evaluation, and visualization. This ensures that all dependencies are met and the environment is set up correctly.\n"
      ],
      "metadata": {
        "id": "pvaNg5LOpgOb"
      }
    },
    {
      "cell_type": "code",
      "source": [
        "# ============================================\n",
        "# 🚀 Setup: Install Required Packages\n",
        "# ============================================\n",
        "\n",
        "# Install necessary packages quietly to avoid cluttering the output\n",
        "!pip install -q torchinfo transformers matplotlib seaborn scikit-learn torchtext\n",
        "\n",
        "# ============================================\n",
        "# 📚 Import Libraries\n",
        "# ============================================\n",
        "\n",
        "import os\n",
        "import re\n",
        "import random\n",
        "import logging\n",
        "from collections import Counter\n",
        "\n",
        "import numpy as np\n",
        "import pandas as pd\n",
        "\n",
        "import matplotlib.pyplot as plt\n",
        "import seaborn as sns\n",
        "from tqdm import tqdm\n",
        "\n",
        "import torch\n",
        "import torch.nn as nn\n",
        "import torch.optim as optim\n",
        "from torch.utils.data import Dataset, DataLoader, random_split\n",
        "from torch.optim.lr_scheduler import StepLR\n",
        "\n",
        "from torchinfo import summary\n",
        "\n",
        "from sklearn.metrics import accuracy_score, precision_score, recall_score, f1_score, confusion_matrix\n",
        "\n",
        "from transformers import BertTokenizer, BertForSequenceClassification, AdamW, get_linear_schedule_with_warmup\n",
        "\n",
        "from google.colab import drive, files\n",
        "\n",
        "# Check if CUDA (GPU) is available and set the device accordingly\n",
        "device = torch.device('cuda') if torch.cuda.is_available() else torch.device('cpu')\n",
        "print(f\"Using device: {device}\")"
      ],
      "metadata": {
        "colab": {
          "base_uri": "https://localhost:8080/"
        },
        "id": "Yu6YplO6pa1a",
        "outputId": "effe0fd4-49e7-43c1-dee4-a041e4be6ff5"
      },
      "execution_count": 1,
      "outputs": [
        {
          "output_type": "stream",
          "name": "stdout",
          "text": [
            "\u001b[?25l   \u001b[90m━━━━━━━━━━━━━━━━━━━━━━━━━━━━━━━━━━━━━━━━\u001b[0m \u001b[32m0.0/2.0 MB\u001b[0m \u001b[31m?\u001b[0m eta \u001b[36m-:--:--\u001b[0m\r\u001b[2K   \u001b[91m━━━━━━━━━\u001b[0m\u001b[91m╸\u001b[0m\u001b[90m━━━━━━━━━━━━━━━━━━━━━━━━━━━━━━\u001b[0m \u001b[32m0.5/2.0 MB\u001b[0m \u001b[31m14.4 MB/s\u001b[0m eta \u001b[36m0:00:01\u001b[0m\r\u001b[2K   \u001b[91m━━━━━━━━━━━━━━━━━━━━━━━━━━━━━━━━━━━━━━━\u001b[0m\u001b[91m╸\u001b[0m \u001b[32m2.0/2.0 MB\u001b[0m \u001b[31m35.9 MB/s\u001b[0m eta \u001b[36m0:00:01\u001b[0m\r\u001b[2K   \u001b[90m━━━━━━━━━━━━━━━━━━━━━━━━━━━━━━━━━━━━━━━━\u001b[0m \u001b[32m2.0/2.0 MB\u001b[0m \u001b[31m27.3 MB/s\u001b[0m eta \u001b[36m0:00:00\u001b[0m\n",
            "\u001b[?25hUsing device: cuda\n"
          ]
        }
      ]
    },
    {
      "cell_type": "markdown",
      "source": [
        "### 2. Mount Google Drive and Set Up Directories\n",
        "\n",
        "We'll store our dataset and models in Google Drive for persistent storage."
      ],
      "metadata": {
        "id": "qPkadLNCpo5G"
      }
    },
    {
      "cell_type": "code",
      "source": [
        "# ============================================\n",
        "# 🗄️ Mount Google Drive\n",
        "# ============================================\n",
        "\n",
        "# Mount Google Drive\n",
        "drive.mount('/content/drive')"
      ],
      "metadata": {
        "colab": {
          "base_uri": "https://localhost:8080/"
        },
        "id": "c7bVw1qGpi7R",
        "outputId": "3042ec15-c6d6-4950-bdd9-ebafc1480ece"
      },
      "execution_count": 2,
      "outputs": [
        {
          "output_type": "stream",
          "name": "stdout",
          "text": [
            "Mounted at /content/drive\n"
          ]
        }
      ]
    },
    {
      "cell_type": "code",
      "source": [
        "# ============================================\n",
        "# 🗄️ Define Directories\n",
        "# ============================================\n",
        "\n",
        "# Define paths for dataset and models\n",
        "data_dir = '/content/drive/MyDrive/deep_learning/dataset/sentiment_analysis/data'\n",
        "os.makedirs(data_dir, exist_ok=True)\n",
        "\n",
        "model_dir = '/content/drive/MyDrive/deep_learning/models/sentiment_analysis/model'\n",
        "os.makedirs(model_dir, exist_ok=True)\n",
        "\n",
        "print(f\"Data directory: {data_dir}\")\n",
        "print(f\"Model directory: {model_dir}\")"
      ],
      "metadata": {
        "id": "uN0_m6sxprel",
        "colab": {
          "base_uri": "https://localhost:8080/"
        },
        "outputId": "7f368a23-ced6-471a-840d-bad32ef6f7da"
      },
      "execution_count": 3,
      "outputs": [
        {
          "output_type": "stream",
          "name": "stdout",
          "text": [
            "Data directory: /content/drive/MyDrive/deep_learning/dataset/sentiment_analysis/data\n",
            "Model directory: /content/drive/MyDrive/deep_learning/models/sentiment_analysis/model\n"
          ]
        }
      ]
    },
    {
      "cell_type": "markdown",
      "source": [
        "### 3. Dataset Overview\n",
        "\n",
        "We'll use the **IMDb Movie Reviews** dataset, which contains 50,000 movie reviews labeled as positive or negative. This dataset is balanced, with 25,000 reviews for each sentiment, making it ideal for binary classification tasks.\n",
        "\n",
        "#### **Dataset Structure**\n",
        "\n",
        "- **train**\n",
        "  - **pos**: 12,500 positive reviews\n",
        "  - **neg**: 12,500 negative reviews\n",
        "- **test**\n",
        "  - **pos**: 12,500 positive reviews\n",
        "  - **neg**: 12,500 negative reviews"
      ],
      "metadata": {
        "id": "DyT26Guwp7Cg"
      }
    },
    {
      "cell_type": "code",
      "source": [
        "# ============================================\n",
        "# 📂 Download and Extract Dataset\n",
        "# ============================================\n",
        "\n",
        "import tarfile\n",
        "import urllib.request\n",
        "\n",
        "# URL for the IMDb dataset\n",
        "url = 'https://ai.stanford.edu/~amaas/data/sentiment/aclImdb_v1.tar.gz'\n",
        "dataset_tar = os.path.join(data_dir, 'aclImdb_v1.tar.gz')\n",
        "dataset_folder = os.path.join(data_dir, 'aclImdb')\n",
        "\n",
        "# Download the dataset if not already present\n",
        "if not os.path.exists(dataset_folder):\n",
        "    print(\"Downloading IMDb dataset...\")\n",
        "    urllib.request.urlretrieve(url, dataset_tar)\n",
        "    print(\"Download complete.\")\n",
        "\n",
        "    # Extract the dataset\n",
        "    print(\"Extracting dataset...\")\n",
        "    with tarfile.open(dataset_tar, 'r:gz') as tar:\n",
        "        tar.extractall(path=data_dir)\n",
        "    print(\"Extraction complete.\")\n",
        "\n",
        "    # Remove the tar.gz file to save space\n",
        "    os.remove(dataset_tar)\n",
        "else:\n",
        "    print(\"Dataset already exists.\")"
      ],
      "metadata": {
        "colab": {
          "base_uri": "https://localhost:8080/"
        },
        "id": "xagzd_XYp5Bs",
        "outputId": "560887df-88ae-4585-cd3b-b22b60c3f816"
      },
      "execution_count": null,
      "outputs": [
        {
          "output_type": "stream",
          "name": "stdout",
          "text": [
            "Downloading IMDb dataset...\n",
            "Download complete.\n",
            "Extracting dataset...\n",
            "Extraction complete.\n"
          ]
        }
      ]
    },
    {
      "cell_type": "code",
      "source": [],
      "metadata": {
        "id": "q5PYxC_yp4_Q"
      },
      "execution_count": null,
      "outputs": []
    },
    {
      "cell_type": "code",
      "source": [],
      "metadata": {
        "id": "OkfxrBk_rHUc"
      },
      "execution_count": null,
      "outputs": []
    },
    {
      "cell_type": "code",
      "source": [],
      "metadata": {
        "id": "-xzBJwz0p48m"
      },
      "execution_count": null,
      "outputs": []
    },
    {
      "cell_type": "markdown",
      "source": [
        "### 4. Data Preprocessing\n",
        "\n",
        "We'll create a custom `Dataset` class to handle the loading and preprocessing of the IMDb movie reviews. The preprocessing steps include:\n",
        "\n",
        "- **Text Cleaning:**\n",
        "  - Removing HTML tags.\n",
        "  - Removing punctuation.\n",
        "  - Converting text to lowercase.\n",
        "  - Removing stopwords (optional).\n",
        "\n",
        "- **Tokenization:**\n",
        "  - Converting text to sequences of tokens using techniques like Word Embeddings or tokenizers from pre-trained models.\n",
        "\n",
        "- **Padding/Truncating:**\n",
        "  - Ensuring all sequences are of the same length by padding shorter sequences and truncating longer ones.\n",
        "\n",
        "- **Embedding:**\n",
        "  - Utilizing pre-trained word embeddings like GloVe or training embeddings from scratch to convert tokens into numerical representations.\n",
        "\n",
        "\n",
        "#### **4.1. Data Splitting:**\n",
        "  - Split the dataset into training, validation and test sets to monitor the model's performance on unseen data, and build the dataloaders from there\n",
        "\n"
      ],
      "metadata": {
        "id": "9bayEcvCrF21"
      }
    },
    {
      "cell_type": "code",
      "source": [
        "# ============================================\n",
        "# 📦 Custom Dataset Class for BERT\n",
        "# ============================================\n",
        "\n",
        "from transformers import BertTokenizer\n",
        "\n",
        "class IMDBDatasetBERT(Dataset):\n",
        "    def __init__(self, data_dir, split='train', tokenizer=None, max_len=500):\n",
        "        \"\"\"\n",
        "        Args:\n",
        "            data_dir (str): Directory with the IMDb dataset.\n",
        "            split (str): 'train' or 'test'.\n",
        "            tokenizer (BertTokenizer): Pre-trained BERT tokenizer.\n",
        "            max_len (int): Maximum length of tokenized sequences.\n",
        "        \"\"\"\n",
        "        self.texts = []\n",
        "        self.labels = []\n",
        "        self.tokenizer = tokenizer\n",
        "        self.max_len = max_len\n",
        "\n",
        "        split_dir = os.path.join(data_dir, split)\n",
        "        if not os.path.exists(split_dir):\n",
        "            raise FileNotFoundError(f\"Directory {split_dir} does not exist.\")\n",
        "\n",
        "        for sentiment in ['pos', 'neg']:\n",
        "            sentiment_dir = os.path.join(split_dir, sentiment)\n",
        "            if not os.path.exists(sentiment_dir):\n",
        "                raise FileNotFoundError(f\"Directory {sentiment_dir} does not exist.\")\n",
        "            for filename in os.listdir(sentiment_dir):\n",
        "                if filename.endswith('.txt'):\n",
        "                    filepath = os.path.join(sentiment_dir, filename)\n",
        "                    try:\n",
        "                        with open(filepath, 'r', encoding='utf-8') as f:\n",
        "                            text = f.read()\n",
        "                            text = self.clean_text(text)\n",
        "                            self.texts.append(text)\n",
        "                            self.labels.append(1 if sentiment == 'pos' else 0)\n",
        "                    except Exception as e:\n",
        "                        logging.error(f\"Error reading {filepath}: {e}\")\n",
        "\n",
        "    def __len__(self):\n",
        "        return len(self.texts)\n",
        "\n",
        "    def __getitem__(self, idx):\n",
        "        text = self.texts[idx]\n",
        "        label = self.labels[idx]\n",
        "\n",
        "        encoding = self.tokenizer.encode_plus(\n",
        "            text,\n",
        "            add_special_tokens=True,\n",
        "            max_length=self.max_len,\n",
        "            return_token_type_ids=False,\n",
        "            padding='max_length',\n",
        "            truncation=True,\n",
        "            return_attention_mask=True,\n",
        "            return_tensors='pt',\n",
        "        )\n",
        "\n",
        "        return {\n",
        "            'input_ids': encoding['input_ids'].flatten(),           # Tensor of shape [max_len]\n",
        "            'attention_mask': encoding['attention_mask'].flatten(), # Tensor of shape [max_len]\n",
        "            'labels': torch.tensor(label, dtype=torch.float)        # Scalar tensor\n",
        "        }\n",
        "\n",
        "    def clean_text(self, text):\n",
        "        \"\"\"\n",
        "        Clean the input text by removing HTML tags and non-alphabetic characters.\n",
        "        \"\"\"\n",
        "        # Remove HTML tags\n",
        "        text = re.sub(r'<.*?>', '', text)\n",
        "        # Remove non-alphabetic characters and lowercase\n",
        "        text = re.sub(r'[^a-zA-Z]', ' ', text).lower()\n",
        "        # Remove extra spaces\n",
        "        text = re.sub(r'\\s+', ' ', text).strip()\n",
        "        return text"
      ],
      "metadata": {
        "id": "PlEwT2_xaCW-"
      },
      "execution_count": 4,
      "outputs": []
    },
    {
      "cell_type": "code",
      "source": [
        "# ============================================\n",
        "# 🔧 Initialize the Tokenizer\n",
        "# ============================================\n",
        "\n",
        "# Initialize the BERT tokenizer\n",
        "tokenizer = BertTokenizer.from_pretrained('bert-base-uncased')"
      ],
      "metadata": {
        "colab": {
          "base_uri": "https://localhost:8080/",
          "height": 308,
          "referenced_widgets": [
            "cee3aa3d3f784cf48630893c54f05bde",
            "01d0552c5ede4c149bceeb052b4bbc1c",
            "c0951b0419ab44bbb31533a7e6955447",
            "66fab3680fc94706a0ab3ac46125beb2",
            "f66c6802903a4ca8b0aa93992131df3b",
            "dee10c50fc664ceabdeac0393a637fff",
            "ce1610b833424dc092d9207fc4127215",
            "9dcb9c7223e34fa896970e448dcee0d5",
            "492dab14100f4e70b1832dd039e00c40",
            "5ace810d883444fb93420605a8ea3e21",
            "bfcc760adab64b089523186b491c7ab2",
            "91bb09cd1783485e853dc6a5720c3fd0",
            "8857739a45a448f19f39b44af79c8287",
            "3344e6b3f8c34de49c39977fa6196088",
            "a215ce34ad1f4c96a080d104669261fd",
            "d8f572fa6eb6495eb547dacfd903efc8",
            "3564b006b6b542c9bf72c4679558c051",
            "a97470de807a4d0cbba1600043cce7f0",
            "650aec79e5f54fb0bbbdaebf9012990b",
            "26ea6f97b0174c2cbab1fff47e62a909",
            "dd9e8573005243ee94c74db938667484",
            "bacd8ca06e7d4c4eb51fbf2478f1dadc",
            "b32deddffcca4cac897d0fb5498f2826",
            "eb8bd95d5c774356b288f4bc0e0514d0",
            "9fd6d7d445504a379451b89244ff5eb9",
            "3867a3822ce342e1ac35016518e38135",
            "3074aefecfbb4581849bfed99b5f60a8",
            "b879b6f0d7af40d5aba857ae9cd58bea",
            "92dc5dc649814c0c8c7f68ba9d7692ff",
            "893cb7c0979c4115ac79aff53436b0d1",
            "8525cfdfc38b4493b60de71e1710b3ad",
            "1dfd334654284676b22c3a2132f7eb49",
            "aaf6ee5561eb49ce9155cf8ab5368f6c",
            "90ef2f1020ee49a19b97cca0b6cb0d4e",
            "96bf6fbbd09d4c94b8929c59cd0b8f46",
            "416d49a47ae8479a8bae7dea45ba1440",
            "fb1f4c9c25154ff2a6bf43f61a091bca",
            "38fb59c10fa94687a63d772745a8209d",
            "66f317f06bc147f9bb8cf7b9ece9b13c",
            "0bf352245504433791d4bfd7157a9d45",
            "0c12f6faee0f42b6bf9a5ae8f2877ef0",
            "79a5695895e94d5bbeb377f900504824",
            "86c3a13b1cea4cc3897e4918543bd903",
            "87872bb4ea954636910d712df20e4114"
          ]
        },
        "id": "yhtJ7h8saCPv",
        "outputId": "ad3b6d64-6016-4be4-b0c2-9c3d55d229d0"
      },
      "execution_count": 5,
      "outputs": [
        {
          "output_type": "stream",
          "name": "stderr",
          "text": [
            "/usr/local/lib/python3.10/dist-packages/huggingface_hub/utils/_token.py:89: UserWarning: \n",
            "The secret `HF_TOKEN` does not exist in your Colab secrets.\n",
            "To authenticate with the Hugging Face Hub, create a token in your settings tab (https://huggingface.co/settings/tokens), set it as secret in your Google Colab and restart your session.\n",
            "You will be able to reuse this secret in all of your notebooks.\n",
            "Please note that authentication is recommended but still optional to access public models or datasets.\n",
            "  warnings.warn(\n"
          ]
        },
        {
          "output_type": "display_data",
          "data": {
            "text/plain": [
              "tokenizer_config.json:   0%|          | 0.00/48.0 [00:00<?, ?B/s]"
            ],
            "application/vnd.jupyter.widget-view+json": {
              "version_major": 2,
              "version_minor": 0,
              "model_id": "cee3aa3d3f784cf48630893c54f05bde"
            }
          },
          "metadata": {}
        },
        {
          "output_type": "display_data",
          "data": {
            "text/plain": [
              "vocab.txt:   0%|          | 0.00/232k [00:00<?, ?B/s]"
            ],
            "application/vnd.jupyter.widget-view+json": {
              "version_major": 2,
              "version_minor": 0,
              "model_id": "91bb09cd1783485e853dc6a5720c3fd0"
            }
          },
          "metadata": {}
        },
        {
          "output_type": "display_data",
          "data": {
            "text/plain": [
              "tokenizer.json:   0%|          | 0.00/466k [00:00<?, ?B/s]"
            ],
            "application/vnd.jupyter.widget-view+json": {
              "version_major": 2,
              "version_minor": 0,
              "model_id": "b32deddffcca4cac897d0fb5498f2826"
            }
          },
          "metadata": {}
        },
        {
          "output_type": "display_data",
          "data": {
            "text/plain": [
              "config.json:   0%|          | 0.00/570 [00:00<?, ?B/s]"
            ],
            "application/vnd.jupyter.widget-view+json": {
              "version_major": 2,
              "version_minor": 0,
              "model_id": "90ef2f1020ee49a19b97cca0b6cb0d4e"
            }
          },
          "metadata": {}
        },
        {
          "output_type": "stream",
          "name": "stderr",
          "text": [
            "/usr/local/lib/python3.10/dist-packages/transformers/tokenization_utils_base.py:1601: FutureWarning: `clean_up_tokenization_spaces` was not set. It will be set to `True` by default. This behavior will be depracted in transformers v4.45, and will be then set to `False` by default. For more details check this issue: https://github.com/huggingface/transformers/issues/31884\n",
            "  warnings.warn(\n"
          ]
        }
      ]
    },
    {
      "cell_type": "code",
      "source": [
        "# ============================================\n",
        "# 📦 Create Dataset Instances\n",
        "# ============================================\n",
        "\n",
        "# Create training and test datasets\n",
        "train_dataset_bert = IMDBDatasetBERT(data_dir=data_dir, split='train', tokenizer=tokenizer, max_len=500)\n",
        "test_dataset_full = IMDBDatasetBERT(data_dir=data_dir, split='test', tokenizer=tokenizer, max_len=500)\n",
        "\n",
        "print(f\"Number of training samples: {len(train_dataset_bert)}\")\n",
        "print(f\"Number of test samples: {len(test_dataset_full)}\")"
      ],
      "metadata": {
        "colab": {
          "base_uri": "https://localhost:8080/"
        },
        "id": "6yto4JzSaCKk",
        "outputId": "f919c3c6-2cad-4292-a0f3-850a53850ec9"
      },
      "execution_count": 6,
      "outputs": [
        {
          "output_type": "stream",
          "name": "stdout",
          "text": [
            "Number of training samples: 25000\n",
            "Number of test samples: 25000\n"
          ]
        }
      ]
    },
    {
      "cell_type": "code",
      "source": [],
      "metadata": {
        "id": "EHtDxU8zaCH-"
      },
      "execution_count": null,
      "outputs": []
    },
    {
      "cell_type": "code",
      "source": [
        "# ============================================\n",
        "# 🔄 Split Test Dataset into Validation and Test Sets\n",
        "# ============================================\n",
        "\n",
        "from torch.utils.data import random_split\n",
        "\n",
        "# Define split ratios\n",
        "VALID_RATIO = 0.5\n",
        "\n",
        "# Calculate lengths\n",
        "total_test_size = len(test_dataset_full)\n",
        "valid_size = int(total_test_size * VALID_RATIO)\n",
        "test_size = total_test_size - valid_size\n",
        "\n",
        "# Perform the split\n",
        "valid_dataset, test_dataset = random_split(test_dataset_full, [valid_size, test_size])\n",
        "\n",
        "print(f'Validation set size: {len(valid_dataset)}')\n",
        "print(f'Test set size: {len(test_dataset)}')"
      ],
      "metadata": {
        "colab": {
          "base_uri": "https://localhost:8080/"
        },
        "id": "ew1rUdXjaCFd",
        "outputId": "527cc5e3-6d46-421b-bf5a-9f44ab9eff87"
      },
      "execution_count": 7,
      "outputs": [
        {
          "output_type": "stream",
          "name": "stdout",
          "text": [
            "Validation set size: 12500\n",
            "Test set size: 12500\n"
          ]
        }
      ]
    },
    {
      "cell_type": "code",
      "source": [],
      "metadata": {
        "id": "DXcsXDazaCDG"
      },
      "execution_count": null,
      "outputs": []
    },
    {
      "cell_type": "code",
      "source": [
        "# ============================================\n",
        "# 🔄 Define DataLoaders\n",
        "# ============================================\n",
        "\n",
        "# Set random seed for reproducibility\n",
        "SEED = 42\n",
        "torch.manual_seed(SEED)\n",
        "torch.cuda.manual_seed(SEED)\n",
        "random.seed(SEED)\n",
        "torch.backends.cudnn.deterministic = True\n",
        "\n",
        "# Define batch size\n",
        "BATCH_SIZE = 32\n",
        "\n",
        "# Create DataLoaders\n",
        "train_loader = DataLoader(\n",
        "    train_dataset_bert,\n",
        "    batch_size=BATCH_SIZE,\n",
        "    shuffle=True,\n",
        "    num_workers=4,\n",
        "    pin_memory=True,\n",
        "    drop_last=True\n",
        ")\n",
        "\n",
        "valid_loader = DataLoader(\n",
        "    valid_dataset,\n",
        "    batch_size=BATCH_SIZE,\n",
        "    shuffle=False,\n",
        "    num_workers=4,\n",
        "    pin_memory=True,\n",
        "    drop_last=False\n",
        ")\n",
        "\n",
        "test_loader = DataLoader(\n",
        "    test_dataset,\n",
        "    batch_size=BATCH_SIZE,\n",
        "    shuffle=False,\n",
        "    num_workers=4,\n",
        "    pin_memory=True,\n",
        "    drop_last=False\n",
        ")\n",
        "\n",
        "print(f'Train batches: {len(train_loader)}')\n",
        "print(f'Validation batches: {len(valid_loader)}')\n",
        "print(f'Test batches: {len(test_loader)}')"
      ],
      "metadata": {
        "colab": {
          "base_uri": "https://localhost:8080/"
        },
        "id": "5k4xRiSKaCA6",
        "outputId": "e532cf3b-cde8-406c-f59e-355eae36bc8c"
      },
      "execution_count": 8,
      "outputs": [
        {
          "output_type": "stream",
          "name": "stdout",
          "text": [
            "Train batches: 781\n",
            "Validation batches: 391\n",
            "Test batches: 391\n"
          ]
        }
      ]
    },
    {
      "cell_type": "code",
      "source": [],
      "metadata": {
        "id": "yGFWcfY2aB-M"
      },
      "execution_count": null,
      "outputs": []
    },
    {
      "cell_type": "markdown",
      "source": [],
      "metadata": {
        "id": "mljUt2NnXMC5"
      }
    },
    {
      "cell_type": "markdown",
      "source": [
        "### 5. Exploratory Data Analysis (EDA)\n",
        "\n",
        "Understanding the dataset is crucial for building effective models. We'll analyze:\n",
        "\n",
        "1. **Distribution of Sentiments**\n",
        "2. **Length of Reviews**\n",
        "3. **Common Words in Positive and Negative Reviews**"
      ],
      "metadata": {
        "id": "FdGZou5er5yh"
      }
    },
    {
      "cell_type": "code",
      "source": [
        "# ============================================\n",
        "# 📊 Exploratory Data Analysis (EDA)\n",
        "# ============================================\n",
        "\n",
        "# Function to plot sentiment distribution\n",
        "def plot_sentiment_distribution(dataset, split='Train'):\n",
        "    labels = dataset.labels\n",
        "    plt.figure(figsize=(6, 3))\n",
        "    sns.countplot(x=labels, hue=labels)\n",
        "    plt.title(f\"Sentiment Distribution in {split} Set\")\n",
        "    plt.xlabel(\"Sentiment (0: Negative, 1: Positive)\")\n",
        "    plt.ylabel(\"Number of Reviews\")\n",
        "    plt.xticks([0, 1], ['Negative', 'Positive'])\n",
        "    plt.show()\n",
        "\n",
        "# Plot sentiment distribution\n",
        "plot_sentiment_distribution(train_dataset, split='Train')\n",
        "plot_sentiment_distribution(test_dataset, split='Test')\n",
        "\n",
        "# Function to analyze review lengths\n",
        "def plot_review_lengths(dataset, split='Train', num_samples=1000):\n",
        "    lengths = []\n",
        "    sampled_indices = random.sample(range(len(dataset.texts)), min(num_samples, len(dataset.texts)))\n",
        "\n",
        "    for idx in sampled_indices:\n",
        "        text = dataset.texts[idx]\n",
        "        lengths.append(len(text.split()))\n",
        "\n",
        "    plt.figure(figsize=(6, 3))\n",
        "    sns.histplot(lengths, bins=50, kde=True)\n",
        "    plt.title(f\"Review Length Distribution in {split} Set\")\n",
        "    plt.xlabel(\"Number of Words\")\n",
        "    plt.ylabel(\"Frequency\")\n",
        "    plt.show()\n",
        "\n",
        "# Plot review length distribution\n",
        "plot_review_lengths(train_dataset, split='Train')\n",
        "plot_review_lengths(test_dataset, split='Test')"
      ],
      "metadata": {
        "colab": {
          "base_uri": "https://localhost:8080/",
          "height": 1000
        },
        "id": "eor9cQj-ruVE",
        "outputId": "fa6477ca-356a-4fbd-a35b-624162c16c84"
      },
      "execution_count": 12,
      "outputs": [
        {
          "output_type": "display_data",
          "data": {
            "text/plain": [
              "<Figure size 600x300 with 1 Axes>"
            ],
            "image/png": "[encoded data removed]"
          },
          "metadata": {}
        },
        {
          "output_type": "display_data",
          "data": {
            "text/plain": [
              "<Figure size 600x300 with 1 Axes>"
            ],
            "image/png": "[encoded data removed]"
          },
          "metadata": {}
        },
        {
          "output_type": "display_data",
          "data": {
            "text/plain": [
              "<Figure size 600x300 with 1 Axes>"
            ],
            "image/png": "[encoded data removed]"
          },
          "metadata": {}
        },
        {
          "output_type": "display_data",
          "data": {
            "text/plain": [
              "<Figure size 600x300 with 1 Axes>"
            ],
            "image/png": "[encoded data removed]"
          },
          "metadata": {}
        }
      ]
    },
    {
      "cell_type": "code",
      "source": [],
      "metadata": {
        "id": "F-bvi7EgruSR"
      },
      "execution_count": null,
      "outputs": []
    },
    {
      "cell_type": "code",
      "source": [
        "# ============================================\n",
        "# 📊 Common Words in Positive and Negative Reviews\n",
        "# ============================================\n",
        "\n",
        "import nltk\n",
        "from nltk.tokenize import word_tokenize\n",
        "nltk.download('punkt')\n",
        "\n",
        "# Function to get common words using NLTK tokenizer\n",
        "def get_common_words_nltk(dataset, top_n=20, sample_size=None):\n",
        "    positive_counter = Counter()\n",
        "    negative_counter = Counter()\n",
        "\n",
        "    indices = range(len(dataset.texts))\n",
        "    if sample_size:\n",
        "        sampled_indices = random.sample(indices, min(sample_size, len(dataset.texts)))\n",
        "    else:\n",
        "        sampled_indices = indices\n",
        "\n",
        "    for idx in sampled_indices:\n",
        "        text = dataset.texts[idx]\n",
        "        label = dataset.labels[idx]\n",
        "        words = word_tokenize(text)\n",
        "        if label == 1:\n",
        "            positive_counter.update(words)\n",
        "        else:\n",
        "            negative_counter.update(words)\n",
        "\n",
        "    return positive_counter.most_common(top_n), negative_counter.most_common(top_n)\n",
        "\n",
        "# Function to plot common words\n",
        "def plot_common_words(common_words, title):\n",
        "    words, counts = zip(*common_words)\n",
        "    plt.figure(figsize=(10, 6))\n",
        "    sns.barplot(x=list(counts), y=list(words), hue=list(words), legend=False)\n",
        "    plt.title(title)\n",
        "    plt.xlabel(\"Frequency\")\n",
        "    plt.ylabel(\"Words\")\n",
        "    plt.xticks(rotation=90)\n",
        "    plt.show()\n",
        "\n",
        "# Get common words with sampling for efficiency\n",
        "top_pos, top_neg = get_common_words_nltk(train_dataset, top_n=20, sample_size=10000)\n",
        "\n",
        "# Plot top positive words\n",
        "plot_common_words(top_pos, \"Top 20 Words in Positive Reviews\")\n",
        "\n",
        "# Plot top negative words\n",
        "plot_common_words(top_neg, \"Top 20 Words in Negative Reviews\")"
      ],
      "metadata": {
        "colab": {
          "base_uri": "https://localhost:8080/",
          "height": 1000
        },
        "id": "ygI-HdjeruPw",
        "outputId": "58c97dd9-4b08-4ff6-8820-8bf1e60d8180"
      },
      "execution_count": 29,
      "outputs": [
        {
          "output_type": "stream",
          "name": "stderr",
          "text": [
            "[nltk_data] Downloading package punkt to /root/nltk_data...\n",
            "[nltk_data]   Package punkt is already up-to-date!\n"
          ]
        },
        {
          "output_type": "display_data",
          "data": {
            "text/plain": [
              "<Figure size 1000x600 with 1 Axes>"
            ],
            "image/png": "[encoded data removed]"
          },
          "metadata": {}
        },
        {
          "output_type": "display_data",
          "data": {
            "text/plain": [
              "<Figure size 1000x600 with 1 Axes>"
            ],
            "image/png": "[encoded data removed]"
          },
          "metadata": {}
        }
      ]
    },
    {
      "cell_type": "code",
      "source": [],
      "metadata": {
        "id": "nU5fjHjsruM4"
      },
      "execution_count": null,
      "outputs": []
    },
    {
      "cell_type": "code",
      "source": [],
      "metadata": {
        "id": "B0IGDTbmruKE"
      },
      "execution_count": null,
      "outputs": []
    },
    {
      "cell_type": "markdown",
      "source": [
        "### 6. Model Building\n",
        "\n",
        "We'll build and fine-tune deep learning models tailored for sentiment classification:\n",
        "\n",
        "- **6.1. Define the Model Architecture:**\n",
        "  - Experiment with more advanced architectures like GRU or Transformer-based models such as BERT.\n",
        "\n",
        "- **6.2. Utilize Pre-trained Models:**\n",
        "  - Leverage pre-trained embeddings and models, fine-tuning them to enhance performance on our specific task.\n"
      ],
      "metadata": {
        "id": "JiGibh3TsG7H"
      }
    },
    {
      "cell_type": "code",
      "source": [
        "# ============================================\n",
        "# 🧠 Define and Initialize the BERT Model\n",
        "# ============================================\n",
        "\n",
        "# Initialize the BERT model for sequence classification\n",
        "model = BertForSequenceClassification.from_pretrained(\n",
        "    'bert-base-uncased',\n",
        "    num_labels=1,          # Binary classification\n",
        "    output_attentions=False,\n",
        "    output_hidden_states=False\n",
        ")\n",
        "\n",
        "# Move the model to the device\n",
        "model = model.to(device)"
      ],
      "metadata": {
        "id": "Mt4Y1J-HruEz",
        "colab": {
          "base_uri": "https://localhost:8080/"
        },
        "outputId": "90367f4d-4e85-481e-e474-e0f72e41db2d"
      },
      "execution_count": 10,
      "outputs": [
        {
          "output_type": "stream",
          "name": "stderr",
          "text": [
            "Some weights of BertForSequenceClassification were not initialized from the model checkpoint at bert-base-uncased and are newly initialized: ['classifier.bias', 'classifier.weight']\n",
            "You should probably TRAIN this model on a down-stream task to be able to use it for predictions and inference.\n"
          ]
        }
      ]
    },
    {
      "cell_type": "code",
      "source": [
        "# ============================================\n",
        "# 📦 Define Optimizer and Scheduler\n",
        "# ============================================\n",
        "\n",
        "# Define optimizer\n",
        "optimizer = AdamW(model.parameters(), lr=2e-5, correct_bias=False)\n",
        "\n",
        "# Total number of training steps\n",
        "num_epochs = 10\n",
        "total_steps = len(train_loader) * num_epochs\n",
        "\n",
        "# Define scheduler\n",
        "scheduler = get_linear_schedule_with_warmup(\n",
        "    optimizer,\n",
        "    num_warmup_steps=0,\n",
        "    num_training_steps=total_steps\n",
        ")"
      ],
      "metadata": {
        "colab": {
          "base_uri": "https://localhost:8080/"
        },
        "id": "DGSP7NF4c4Ne",
        "outputId": "3392d78c-a282-4068-9312-7e2b31a2a88e"
      },
      "execution_count": 11,
      "outputs": [
        {
          "output_type": "stream",
          "name": "stderr",
          "text": [
            "/usr/local/lib/python3.10/dist-packages/transformers/optimization.py:591: FutureWarning: This implementation of AdamW is deprecated and will be removed in a future version. Use the PyTorch implementation torch.optim.AdamW instead, or set `no_deprecation_warning=True` to disable this warning\n",
            "  warnings.warn(\n"
          ]
        }
      ]
    },
    {
      "cell_type": "code",
      "source": [
        "# ============================================\n",
        "# 📦 Define Loss Function\n",
        "# ============================================\n",
        "\n",
        "criterion = nn.BCEWithLogitsLoss()\n",
        "criterion = criterion.to(device)"
      ],
      "metadata": {
        "id": "oL6Mq4PWc4HS"
      },
      "execution_count": 12,
      "outputs": []
    },
    {
      "cell_type": "code",
      "source": [
        "# ============================================\n",
        "# 📦 Define Accuracy Metric\n",
        "# ============================================\n",
        "\n",
        "def binary_accuracy(preds, y):\n",
        "    \"\"\"\n",
        "    Returns accuracy per batch\n",
        "    \"\"\"\n",
        "    # Apply sigmoid to get probabilities\n",
        "    probs = torch.sigmoid(preds)\n",
        "    # Round to the closest integer (0 or 1)\n",
        "    rounded_preds = torch.round(probs)\n",
        "    correct = (rounded_preds == y).float()  # Convert into float for division\n",
        "    acc = correct.sum() / len(correct)\n",
        "    return acc"
      ],
      "metadata": {
        "id": "Dm63486dc4Ey"
      },
      "execution_count": 13,
      "outputs": []
    },
    {
      "cell_type": "code",
      "source": [],
      "metadata": {
        "id": "-MbPWy5Dc_l3"
      },
      "execution_count": null,
      "outputs": []
    },
    {
      "cell_type": "code",
      "source": [],
      "metadata": {
        "id": "iAseBmrAzPQ0"
      },
      "execution_count": null,
      "outputs": []
    },
    {
      "cell_type": "markdown",
      "source": [
        "### 7. Training and Validation\n",
        "\n",
        "\n",
        "- **7.1. Training Loop:**\n",
        "  - Implement a robust training loop that includes forward and backward passes, loss computation, optimization, and learning rate scheduling.\n",
        "  - Incorporate error handling to ensure smooth training processes.\n",
        "\n",
        "- **7.2. Gradient Clipping:**\n",
        "  - Apply gradient clipping to prevent exploding gradients, especially in RNNs.\n"
      ],
      "metadata": {
        "id": "4z1CLZ-5zQm4"
      }
    },
    {
      "cell_type": "code",
      "source": [
        "# ============================================\n",
        "# 🏋️‍♂️ Training and Validation Loop with Error Handling\n",
        "# ============================================\n",
        "\n",
        "num_epochs = 50\n",
        "\n",
        "for epoch in range(num_epochs):\n",
        "    model.train()\n",
        "    epoch_loss = 0\n",
        "    epoch_acc = 0\n",
        "    loop = tqdm(train_loader, total=len(train_loader), desc=f\"Epoch {epoch+1}/{num_epochs} - Training\")\n",
        "\n",
        "    for batch_idx, batch in enumerate(loop):\n",
        "        try:\n",
        "            input_ids = batch['input_ids'].to(device)\n",
        "            attention_mask = batch['attention_mask'].to(device)\n",
        "            labels = batch['labels'].to(device)\n",
        "\n",
        "            # Zero gradients\n",
        "            optimizer.zero_grad()\n",
        "\n",
        "            # Forward pass\n",
        "            outputs = model(input_ids=input_ids, attention_mask=attention_mask)\n",
        "            logits = outputs.logits.squeeze(1)\n",
        "\n",
        "            # Calculate loss and accuracy\n",
        "            loss = criterion(logits, labels)\n",
        "            acc = binary_accuracy(logits, labels)\n",
        "\n",
        "            # Backward pass and optimization\n",
        "            loss.backward()\n",
        "            # Gradient clipping\n",
        "            torch.nn.utils.clip_grad_norm_(model.parameters(), max_norm=1.0)\n",
        "            optimizer.step()\n",
        "            scheduler.step()\n",
        "\n",
        "            # Accumulate loss and accuracy\n",
        "            epoch_loss += loss.item()\n",
        "            epoch_acc += acc.item()\n",
        "\n",
        "            # Update tqdm\n",
        "            loop.set_postfix(loss=loss.item(), acc=acc.item())\n",
        "\n",
        "        except Exception as e:\n",
        "            logging.error(f\"Epoch {epoch+1}, Batch {batch_idx+1}: {str(e)}\")\n",
        "            continue\n",
        "\n",
        "    # Calculate average loss and accuracy for training\n",
        "    avg_train_loss = epoch_loss / len(train_loader)\n",
        "    avg_train_acc = epoch_acc / len(train_loader)\n",
        "\n",
        "    model.eval()\n",
        "    valid_loss = 0\n",
        "    valid_acc = 0\n",
        "\n",
        "    with torch.no_grad():\n",
        "        loop = tqdm(valid_loader, total=len(valid_loader), desc=f\"Epoch {epoch+1}/{num_epochs} - Validation\")\n",
        "        for batch_idx, batch in enumerate(loop):\n",
        "            try:\n",
        "                input_ids = batch['input_ids'].to(device)\n",
        "                attention_mask = batch['attention_mask'].to(device)\n",
        "                labels = batch['labels'].to(device)\n",
        "\n",
        "                # Forward pass\n",
        "                outputs = model(input_ids=input_ids, attention_mask=attention_mask)\n",
        "                logits = outputs.logits.squeeze(1)\n",
        "\n",
        "                # Calculate loss and accuracy\n",
        "                loss = criterion(logits, labels)\n",
        "                acc = binary_accuracy(logits, labels)\n",
        "\n",
        "                # Accumulate loss and accuracy\n",
        "                valid_loss += loss.item()\n",
        "                valid_acc += acc.item()\n",
        "\n",
        "                # Update tqdm\n",
        "                loop.set_postfix(loss=loss.item(), acc=acc.item())\n",
        "\n",
        "            except Exception as e:\n",
        "                logging.error(f\"Epoch {epoch+1}, Validation Batch {batch_idx+1}: {str(e)}\")\n",
        "                continue\n",
        "\n",
        "    # Calculate average validation loss and accuracy\n",
        "    avg_valid_loss = valid_loss / len(valid_loader)\n",
        "    avg_valid_acc = valid_acc / len(valid_loader)\n",
        "\n",
        "    print(f\"\\nEpoch {epoch+1} | \"\n",
        "          f\"Train Loss: {avg_train_loss:.4f} | Train Acc: {avg_train_acc*100:.2f}% | \"\n",
        "          f\"Valid Loss: {avg_valid_loss:.4f} | Valid Acc: {avg_valid_acc*100:.2f}%\")\n",
        "\n",
        "    # Save the model checkpoint for the current epoch\n",
        "    checkpoint_path = os.path.join(model_dir, f'bert_sentiment_epoch_{epoch+1}.pth')\n",
        "    torch.save(model.state_dict(), checkpoint_path)\n",
        "    print(f\"=> Model saved to {checkpoint_path}\\n\")"
      ],
      "metadata": {
        "colab": {
          "base_uri": "https://localhost:8080/",
          "height": 918
        },
        "id": "2JznzttHc_jw",
        "outputId": "deb6ed60-2fb3-4194-90dc-fd5b1fb23fcc"
      },
      "execution_count": 16,
      "outputs": [
        {
          "output_type": "stream",
          "name": "stderr",
          "text": [
            "Epoch 1/50 - Training: 100%|██████████| 781/781 [07:22<00:00,  1.77it/s, acc=0.938, loss=0.262]\n",
            "Epoch 1/50 - Validation: 100%|██████████| 391/391 [01:10<00:00,  5.58it/s, acc=0.95, loss=0.148]\n"
          ]
        },
        {
          "output_type": "stream",
          "name": "stdout",
          "text": [
            "\n",
            "Epoch 1 | Train Loss: 0.2440 | Train Acc: 90.34% | Valid Loss: 0.1888 | Valid Acc: 93.06%\n",
            "=> Model saved to /content/drive/MyDrive/deep_learning/models/sentiment_analysis/model/bert_sentiment_epoch_1.pth\n",
            "\n"
          ]
        },
        {
          "output_type": "stream",
          "name": "stderr",
          "text": [
            "Epoch 2/50 - Training: 100%|██████████| 781/781 [07:22<00:00,  1.77it/s, acc=0.906, loss=0.116]\n",
            "Epoch 2/50 - Validation: 100%|██████████| 391/391 [01:10<00:00,  5.57it/s, acc=0.9, loss=0.237]\n"
          ]
        },
        {
          "output_type": "stream",
          "name": "stdout",
          "text": [
            "\n",
            "Epoch 2 | Train Loss: 0.1145 | Train Acc: 96.27% | Valid Loss: 0.2347 | Valid Acc: 93.12%\n",
            "=> Model saved to /content/drive/MyDrive/deep_learning/models/sentiment_analysis/model/bert_sentiment_epoch_2.pth\n",
            "\n"
          ]
        },
        {
          "output_type": "stream",
          "name": "stderr",
          "text": [
            "Epoch 3/50 - Training: 100%|██████████| 781/781 [07:22<00:00,  1.77it/s, acc=1, loss=0.00292]\n",
            "Epoch 3/50 - Validation: 100%|██████████| 391/391 [01:10<00:00,  5.57it/s, acc=0.95, loss=0.139]\n"
          ]
        },
        {
          "output_type": "stream",
          "name": "stdout",
          "text": [
            "\n",
            "Epoch 3 | Train Loss: 0.0583 | Train Acc: 98.53% | Valid Loss: 0.2826 | Valid Acc: 93.27%\n",
            "=> Model saved to /content/drive/MyDrive/deep_learning/models/sentiment_analysis/model/bert_sentiment_epoch_3.pth\n",
            "\n"
          ]
        },
        {
          "output_type": "stream",
          "name": "stderr",
          "text": [
            "Epoch 4/50 - Training: 100%|██████████| 781/781 [07:22<00:00,  1.77it/s, acc=1, loss=0.00325]\n",
            "Epoch 4/50 - Validation: 100%|██████████| 391/391 [01:10<00:00,  5.58it/s, acc=0.95, loss=0.0783]\n"
          ]
        },
        {
          "output_type": "stream",
          "name": "stdout",
          "text": [
            "\n",
            "Epoch 4 | Train Loss: 0.0340 | Train Acc: 99.26% | Valid Loss: 0.3233 | Valid Acc: 93.35%\n",
            "=> Model saved to /content/drive/MyDrive/deep_learning/models/sentiment_analysis/model/bert_sentiment_epoch_4.pth\n",
            "\n"
          ]
        },
        {
          "output_type": "stream",
          "name": "stderr",
          "text": [
            "Epoch 5/50 - Training: 100%|██████████| 781/781 [07:22<00:00,  1.77it/s, acc=0.969, loss=0.18]\n",
            "Epoch 5/50 - Validation: 100%|██████████| 391/391 [01:10<00:00,  5.57it/s, acc=1, loss=0.00231]\n"
          ]
        },
        {
          "output_type": "stream",
          "name": "stdout",
          "text": [
            "\n",
            "Epoch 5 | Train Loss: 0.0223 | Train Acc: 99.52% | Valid Loss: 0.3486 | Valid Acc: 93.24%\n",
            "=> Model saved to /content/drive/MyDrive/deep_learning/models/sentiment_analysis/model/bert_sentiment_epoch_5.pth\n",
            "\n"
          ]
        },
        {
          "output_type": "stream",
          "name": "stderr",
          "text": [
            "Epoch 6/50 - Training:  13%|█▎        | 98/781 [00:56<06:32,  1.74it/s, acc=1, loss=0.00183]\n"
          ]
        },
        {
          "output_type": "error",
          "ename": "KeyboardInterrupt",
          "evalue": "",
          "traceback": [
            "\u001b[0;31m---------------------------------------------------------------------------\u001b[0m",
            "\u001b[0;31mKeyboardInterrupt\u001b[0m                         Traceback (most recent call last)",
            "\u001b[0;32m<ipython-input-16-adde027eebef>\u001b[0m in \u001b[0;36m<cell line: 7>\u001b[0;34m()\u001b[0m\n\u001b[1;32m     32\u001b[0m             \u001b[0;31m# Gradient clipping\u001b[0m\u001b[0;34m\u001b[0m\u001b[0;34m\u001b[0m\u001b[0m\n\u001b[1;32m     33\u001b[0m             \u001b[0mtorch\u001b[0m\u001b[0;34m.\u001b[0m\u001b[0mnn\u001b[0m\u001b[0;34m.\u001b[0m\u001b[0mutils\u001b[0m\u001b[0;34m.\u001b[0m\u001b[0mclip_grad_norm_\u001b[0m\u001b[0;34m(\u001b[0m\u001b[0mmodel\u001b[0m\u001b[0;34m.\u001b[0m\u001b[0mparameters\u001b[0m\u001b[0;34m(\u001b[0m\u001b[0;34m)\u001b[0m\u001b[0;34m,\u001b[0m \u001b[0mmax_norm\u001b[0m\u001b[0;34m=\u001b[0m\u001b[0;36m1.0\u001b[0m\u001b[0;34m)\u001b[0m\u001b[0;34m\u001b[0m\u001b[0;34m\u001b[0m\u001b[0m\n\u001b[0;32m---> 34\u001b[0;31m             \u001b[0moptimizer\u001b[0m\u001b[0;34m.\u001b[0m\u001b[0mstep\u001b[0m\u001b[0;34m(\u001b[0m\u001b[0;34m)\u001b[0m\u001b[0;34m\u001b[0m\u001b[0;34m\u001b[0m\u001b[0m\n\u001b[0m\u001b[1;32m     35\u001b[0m             \u001b[0mscheduler\u001b[0m\u001b[0;34m.\u001b[0m\u001b[0mstep\u001b[0m\u001b[0;34m(\u001b[0m\u001b[0;34m)\u001b[0m\u001b[0;34m\u001b[0m\u001b[0;34m\u001b[0m\u001b[0m\n\u001b[1;32m     36\u001b[0m \u001b[0;34m\u001b[0m\u001b[0m\n",
            "\u001b[0;32m/usr/local/lib/python3.10/dist-packages/torch/optim/lr_scheduler.py\u001b[0m in \u001b[0;36mwrapper\u001b[0;34m(*args, **kwargs)\u001b[0m\n\u001b[1;32m    128\u001b[0m                     \u001b[0mopt\u001b[0m \u001b[0;34m=\u001b[0m \u001b[0mopt_ref\u001b[0m\u001b[0;34m(\u001b[0m\u001b[0;34m)\u001b[0m\u001b[0;34m\u001b[0m\u001b[0;34m\u001b[0m\u001b[0m\n\u001b[1;32m    129\u001b[0m                     \u001b[0mopt\u001b[0m\u001b[0;34m.\u001b[0m\u001b[0m_opt_called\u001b[0m \u001b[0;34m=\u001b[0m \u001b[0;32mTrue\u001b[0m  \u001b[0;31m# type: ignore[union-attr]\u001b[0m\u001b[0;34m\u001b[0m\u001b[0;34m\u001b[0m\u001b[0m\n\u001b[0;32m--> 130\u001b[0;31m                     \u001b[0;32mreturn\u001b[0m \u001b[0mfunc\u001b[0m\u001b[0;34m.\u001b[0m\u001b[0m__get__\u001b[0m\u001b[0;34m(\u001b[0m\u001b[0mopt\u001b[0m\u001b[0;34m,\u001b[0m \u001b[0mopt\u001b[0m\u001b[0;34m.\u001b[0m\u001b[0m__class__\u001b[0m\u001b[0;34m)\u001b[0m\u001b[0;34m(\u001b[0m\u001b[0;34m*\u001b[0m\u001b[0margs\u001b[0m\u001b[0;34m,\u001b[0m \u001b[0;34m**\u001b[0m\u001b[0mkwargs\u001b[0m\u001b[0;34m)\u001b[0m\u001b[0;34m\u001b[0m\u001b[0;34m\u001b[0m\u001b[0m\n\u001b[0m\u001b[1;32m    131\u001b[0m \u001b[0;34m\u001b[0m\u001b[0m\n\u001b[1;32m    132\u001b[0m                 \u001b[0mwrapper\u001b[0m\u001b[0;34m.\u001b[0m\u001b[0m_wrapped_by_lr_sched\u001b[0m \u001b[0;34m=\u001b[0m \u001b[0;32mTrue\u001b[0m  \u001b[0;31m# type: ignore[attr-defined]\u001b[0m\u001b[0;34m\u001b[0m\u001b[0;34m\u001b[0m\u001b[0m\n",
            "\u001b[0;32m/usr/local/lib/python3.10/dist-packages/torch/optim/optimizer.py\u001b[0m in \u001b[0;36mwrapper\u001b[0;34m(*args, **kwargs)\u001b[0m\n\u001b[1;32m    482\u001b[0m                             )\n\u001b[1;32m    483\u001b[0m \u001b[0;34m\u001b[0m\u001b[0m\n\u001b[0;32m--> 484\u001b[0;31m                 \u001b[0mout\u001b[0m \u001b[0;34m=\u001b[0m \u001b[0mfunc\u001b[0m\u001b[0;34m(\u001b[0m\u001b[0;34m*\u001b[0m\u001b[0margs\u001b[0m\u001b[0;34m,\u001b[0m \u001b[0;34m**\u001b[0m\u001b[0mkwargs\u001b[0m\u001b[0;34m)\u001b[0m\u001b[0;34m\u001b[0m\u001b[0;34m\u001b[0m\u001b[0m\n\u001b[0m\u001b[1;32m    485\u001b[0m                 \u001b[0mself\u001b[0m\u001b[0;34m.\u001b[0m\u001b[0m_optimizer_step_code\u001b[0m\u001b[0;34m(\u001b[0m\u001b[0;34m)\u001b[0m\u001b[0;34m\u001b[0m\u001b[0;34m\u001b[0m\u001b[0m\n\u001b[1;32m    486\u001b[0m \u001b[0;34m\u001b[0m\u001b[0m\n",
            "\u001b[0;32m/usr/local/lib/python3.10/dist-packages/torch/utils/_contextlib.py\u001b[0m in \u001b[0;36mdecorate_context\u001b[0;34m(*args, **kwargs)\u001b[0m\n\u001b[1;32m    114\u001b[0m     \u001b[0;32mdef\u001b[0m \u001b[0mdecorate_context\u001b[0m\u001b[0;34m(\u001b[0m\u001b[0;34m*\u001b[0m\u001b[0margs\u001b[0m\u001b[0;34m,\u001b[0m \u001b[0;34m**\u001b[0m\u001b[0mkwargs\u001b[0m\u001b[0;34m)\u001b[0m\u001b[0;34m:\u001b[0m\u001b[0;34m\u001b[0m\u001b[0;34m\u001b[0m\u001b[0m\n\u001b[1;32m    115\u001b[0m         \u001b[0;32mwith\u001b[0m \u001b[0mctx_factory\u001b[0m\u001b[0;34m(\u001b[0m\u001b[0;34m)\u001b[0m\u001b[0;34m:\u001b[0m\u001b[0;34m\u001b[0m\u001b[0;34m\u001b[0m\u001b[0m\n\u001b[0;32m--> 116\u001b[0;31m             \u001b[0;32mreturn\u001b[0m \u001b[0mfunc\u001b[0m\u001b[0;34m(\u001b[0m\u001b[0;34m*\u001b[0m\u001b[0margs\u001b[0m\u001b[0;34m,\u001b[0m \u001b[0;34m**\u001b[0m\u001b[0mkwargs\u001b[0m\u001b[0;34m)\u001b[0m\u001b[0;34m\u001b[0m\u001b[0;34m\u001b[0m\u001b[0m\n\u001b[0m\u001b[1;32m    117\u001b[0m \u001b[0;34m\u001b[0m\u001b[0m\n\u001b[1;32m    118\u001b[0m     \u001b[0;32mreturn\u001b[0m \u001b[0mdecorate_context\u001b[0m\u001b[0;34m\u001b[0m\u001b[0;34m\u001b[0m\u001b[0m\n",
            "\u001b[0;32m/usr/local/lib/python3.10/dist-packages/transformers/optimization.py\u001b[0m in \u001b[0;36mstep\u001b[0;34m(self, closure)\u001b[0m\n\u001b[1;32m    645\u001b[0m                 \u001b[0;31m# In-place operations to update the averages at the same time\u001b[0m\u001b[0;34m\u001b[0m\u001b[0;34m\u001b[0m\u001b[0m\n\u001b[1;32m    646\u001b[0m                 \u001b[0mexp_avg\u001b[0m\u001b[0;34m.\u001b[0m\u001b[0mmul_\u001b[0m\u001b[0;34m(\u001b[0m\u001b[0mbeta1\u001b[0m\u001b[0;34m)\u001b[0m\u001b[0;34m.\u001b[0m\u001b[0madd_\u001b[0m\u001b[0;34m(\u001b[0m\u001b[0mgrad\u001b[0m\u001b[0;34m,\u001b[0m \u001b[0malpha\u001b[0m\u001b[0;34m=\u001b[0m\u001b[0;34m(\u001b[0m\u001b[0;36m1.0\u001b[0m \u001b[0;34m-\u001b[0m \u001b[0mbeta1\u001b[0m\u001b[0;34m)\u001b[0m\u001b[0;34m)\u001b[0m\u001b[0;34m\u001b[0m\u001b[0;34m\u001b[0m\u001b[0m\n\u001b[0;32m--> 647\u001b[0;31m                 \u001b[0mexp_avg_sq\u001b[0m\u001b[0;34m.\u001b[0m\u001b[0mmul_\u001b[0m\u001b[0;34m(\u001b[0m\u001b[0mbeta2\u001b[0m\u001b[0;34m)\u001b[0m\u001b[0;34m.\u001b[0m\u001b[0maddcmul_\u001b[0m\u001b[0;34m(\u001b[0m\u001b[0mgrad\u001b[0m\u001b[0;34m,\u001b[0m \u001b[0mgrad\u001b[0m\u001b[0;34m,\u001b[0m \u001b[0mvalue\u001b[0m\u001b[0;34m=\u001b[0m\u001b[0;36m1.0\u001b[0m \u001b[0;34m-\u001b[0m \u001b[0mbeta2\u001b[0m\u001b[0;34m)\u001b[0m\u001b[0;34m\u001b[0m\u001b[0;34m\u001b[0m\u001b[0m\n\u001b[0m\u001b[1;32m    648\u001b[0m                 \u001b[0mdenom\u001b[0m \u001b[0;34m=\u001b[0m \u001b[0mexp_avg_sq\u001b[0m\u001b[0;34m.\u001b[0m\u001b[0msqrt\u001b[0m\u001b[0;34m(\u001b[0m\u001b[0;34m)\u001b[0m\u001b[0;34m.\u001b[0m\u001b[0madd_\u001b[0m\u001b[0;34m(\u001b[0m\u001b[0mgroup\u001b[0m\u001b[0;34m[\u001b[0m\u001b[0;34m\"eps\"\u001b[0m\u001b[0;34m]\u001b[0m\u001b[0;34m)\u001b[0m\u001b[0;34m\u001b[0m\u001b[0;34m\u001b[0m\u001b[0m\n\u001b[1;32m    649\u001b[0m \u001b[0;34m\u001b[0m\u001b[0m\n",
            "\u001b[0;31mKeyboardInterrupt\u001b[0m: "
          ]
        }
      ]
    },
    {
      "cell_type": "code",
      "source": [],
      "metadata": {
        "id": "tYs5EP1qc_hX"
      },
      "execution_count": null,
      "outputs": []
    },
    {
      "cell_type": "code",
      "source": [],
      "metadata": {
        "id": "_UKZkMoac_ez"
      },
      "execution_count": null,
      "outputs": []
    },
    {
      "cell_type": "code",
      "source": [],
      "metadata": {
        "id": "wBB2Y-xPsZso"
      },
      "execution_count": null,
      "outputs": []
    },
    {
      "cell_type": "markdown",
      "source": [
        "### 8. Model Evaluation and Visualization\n",
        "\n",
        "- **5.1. Evaluation Metrics:**\n",
        "  - Assess the model using metrics like Accuracy, Precision, Recall, and F1-Score to gauge performance comprehensively.\n",
        "\n",
        "- **5.2. Visualization:**\n",
        "  - Plot training and validation loss and accuracy over epochs to visualize the training progress.\n",
        "  - Generate confusion matrices to understand the types of errors the model is making.\n"
      ],
      "metadata": {
        "id": "OQtoFw10-hit"
      }
    },
    {
      "cell_type": "code",
      "source": [
        "# ============================================\n",
        "# 📦 Evaluate on Test Set\n",
        "# ============================================\n",
        "\n",
        "def evaluate(model, data_loader, device):\n",
        "    model.eval()\n",
        "    preds = []\n",
        "    truths = []\n",
        "\n",
        "    with torch.no_grad():\n",
        "        for texts, labels in tqdm(data_loader, desc=\"Evaluating\"):\n",
        "            texts = texts.to(device)\n",
        "            labels = labels.to(device).float()\n",
        "\n",
        "            predictions = model(texts).squeeze(1)\n",
        "            predictions = torch.sigmoid(predictions)\n",
        "            predictions = predictions.cpu().numpy()\n",
        "            labels = labels.cpu().numpy()\n",
        "\n",
        "            preds.extend(predictions)\n",
        "            truths.extend(labels)\n",
        "\n",
        "    # Convert predictions to binary\n",
        "    binary_preds = [1 if p >= 0.5 else 0 for p in preds]\n",
        "\n",
        "    # Calculate metrics\n",
        "    acc = accuracy_score(truths, binary_preds)\n",
        "    prec = precision_score(truths, binary_preds)\n",
        "    rec = recall_score(truths, binary_preds)\n",
        "    f1 = f1_score(truths, binary_preds)\n",
        "\n",
        "    # Confusion Matrix\n",
        "    cm = confusion_matrix(truths, binary_preds)\n",
        "\n",
        "    print(f\"Accuracy: {acc:.4f}\")\n",
        "    print(f\"Precision: {prec:.4f}\")\n",
        "    print(f\"Recall: {rec:.4f}\")\n",
        "    print(f\"F1-Score: {f1:.4f}\")\n",
        "\n",
        "    # Plot Confusion Matrix\n",
        "    plt.figure(figsize=(6,5))\n",
        "    sns.heatmap(cm, annot=True, fmt='d', cmap='Blues',\n",
        "                xticklabels=['Negative', 'Positive'],\n",
        "                yticklabels=['Negative', 'Positive'])\n",
        "    plt.ylabel('Actual')\n",
        "    plt.xlabel('Predicted')\n",
        "    plt.title('Confusion Matrix')\n",
        "    plt.show()\n",
        "\n",
        "    return acc, prec, rec, f1"
      ],
      "metadata": {
        "id": "r7KNgbO3sZqP"
      },
      "execution_count": null,
      "outputs": []
    },
    {
      "cell_type": "code",
      "source": [
        "\n",
        "# Perform evaluation\n",
        "evaluate(model, test_loader, device)"
      ],
      "metadata": {
        "id": "11tTJclEsZnt"
      },
      "execution_count": null,
      "outputs": []
    },
    {
      "cell_type": "code",
      "source": [],
      "metadata": {
        "id": "xkFrmwY7sZlT"
      },
      "execution_count": null,
      "outputs": []
    },
    {
      "cell_type": "code",
      "source": [],
      "metadata": {
        "id": "4-XgGqu9sZi6"
      },
      "execution_count": null,
      "outputs": []
    },
    {
      "cell_type": "markdown",
      "source": [
        "## 9. Interactive Sentiment Prediction\n",
        "\n",
        "To allow users to input custom movie reviews and receive sentiment predictions in real-time, we'll create an interactive interface within Colab using **ipywidgets**.\n",
        "\n",
        "### **Features:**\n",
        "\n",
        "1. **Input Textbox:** For users to enter custom movie reviews.\n",
        "2. **Predict Button:** To trigger sentiment prediction.\n",
        "3. **Output Display:** To show the predicted sentiment and confidence score."
      ],
      "metadata": {
        "id": "3m5cwArG-yYr"
      }
    },
    {
      "cell_type": "code",
      "source": [
        "# ============================================\n",
        "# 🎛️ Interactive Sentiment Prediction\n",
        "# ============================================\n",
        "\n",
        "def predict_sentiment(review, model, device, text_transform):\n",
        "    model.eval()\n",
        "    with torch.no_grad():\n",
        "        # Clean and transform the input review\n",
        "        review_clean = re.sub(r'<.*?>', '', review)\n",
        "        review_clean = re.sub(r'[^a-zA-Z]', ' ', review_clean).lower()\n",
        "        review_clean = re.sub(r'\\s+', ' ', review_clean).strip()\n",
        "        review_seq = text_transform(review_clean).unsqueeze(0).to(device)\n",
        "\n",
        "        # Get prediction\n",
        "        output = model(review_seq).squeeze(1)\n",
        "        prob = torch.sigmoid(output).item()\n",
        "        sentiment = \"Positive\" if prob >= 0.5 else \"Negative\"\n",
        "        return sentiment, prob\n",
        "\n",
        "def on_button_clicked(b):\n",
        "    review = text_box.value\n",
        "    sentiment, prob = predict_sentiment(review, model, device, text_transform)\n",
        "    output_label.value = f\"Sentiment: **{sentiment}** (Confidence: {prob:.2f})\"\n",
        "\n",
        "# Create widgets\n",
        "text_box = widgets.Textarea(\n",
        "    value='',\n",
        "    placeholder='Enter a movie review here...',\n",
        "    description='Review:',\n",
        "    disabled=False,\n",
        "    layout=widgets.Layout(width='670px', height='100px')\n",
        ")\n",
        "\n",
        "predict_button = widgets.Button(\n",
        "    description='Predict Sentiment',\n",
        "    disabled=False,\n",
        "    button_style='success',\n",
        "    tooltip='Click to predict sentiment',\n",
        "    icon='check',\n",
        "    layout=widgets.Layout(margin='12px 0px 0px 92px')\n",
        ")\n",
        "\n",
        "output_label = widgets.Label(\n",
        "    value='Sentiment: N/A',\n",
        "    layout=widgets.Layout(margin='8px 0px 0px 96px'))\n",
        "\n",
        "predict_button.on_click(on_button_clicked)\n",
        "\n",
        "# Display widgets\n",
        "display(text_box, predict_button, output_label)"
      ],
      "metadata": {
        "colab": {
          "base_uri": "https://localhost:8080/",
          "height": 197,
          "referenced_widgets": [
            "cbf402430ebc4e6da791fd1aa8bf1db1",
            "fe448fadfb9245ce870147b535b4fe10",
            "e6a63093d53f4848a530e018d4ccc39a",
            "ead989372baf4484b1031bbaee121812",
            "df8a867fc9f04bd09df0fa230b26b54c",
            "bb55bc7f53fb45419c91ab2146ea6852",
            "163f45ebe4ef4ae5b30ed19a09615019",
            "14f3812e5f6c4bc2b7e3a30269757162",
            "8c823366a28748b7a48582e8715a61ee"
          ]
        },
        "id": "JdcyBZ88sZgZ",
        "outputId": "6ed3095b-d4e0-4f61-b89f-05bf2555abf2"
      },
      "execution_count": null,
      "outputs": [
        {
          "output_type": "display_data",
          "data": {
            "text/plain": [
              "Textarea(value='', description='Review:', layout=Layout(height='100px', width='670px'), placeholder='Enter a m…"
            ],
            "application/vnd.jupyter.widget-view+json": {
              "version_major": 2,
              "version_minor": 0,
              "model_id": "cbf402430ebc4e6da791fd1aa8bf1db1"
            }
          },
          "metadata": {}
        },
        {
          "output_type": "display_data",
          "data": {
            "text/plain": [
              "Button(button_style='success', description='Predict Sentiment', icon='check', layout=Layout(margin='12px 0px 0…"
            ],
            "application/vnd.jupyter.widget-view+json": {
              "version_major": 2,
              "version_minor": 0,
              "model_id": "ead989372baf4484b1031bbaee121812"
            }
          },
          "metadata": {}
        },
        {
          "output_type": "display_data",
          "data": {
            "text/plain": [
              "Label(value='Sentiment: N/A', layout=Layout(margin='8px 0px 0px 96px'))"
            ],
            "application/vnd.jupyter.widget-view+json": {
              "version_major": 2,
              "version_minor": 0,
              "model_id": "163f45ebe4ef4ae5b30ed19a09615019"
            }
          },
          "metadata": {}
        }
      ]
    },
    {
      "cell_type": "code",
      "source": [],
      "metadata": {
        "id": "IFNXvkOw-xrF"
      },
      "execution_count": null,
      "outputs": []
    },
    {
      "cell_type": "code",
      "source": [],
      "metadata": {
        "id": "_KCoCIyX-xod"
      },
      "execution_count": null,
      "outputs": []
    },
    {
      "cell_type": "markdown",
      "source": [
        "## 10. Conclusion\n",
        "\n",
        "In this project, we successfully developed a deep learning-based sentiment analysis pipeline capable of classifying movie reviews as positive or negative. The key steps included:\n",
        "\n",
        "1. **Data Handling and Preprocessing:** We loaded and cleaned the IMDb dataset, built a vocabulary, and transformed text data into numerical sequences suitable for model training.\n",
        "\n",
        "2. **Model Development:** We built an LSTM-based neural network architecture tailored for binary sentiment classification.\n",
        "\n",
        "3. **Training and Evaluation:** The model was trained on the training set and evaluated on the test set, achieving notable performance metrics.\n",
        "\n",
        "4. **Interactive Testing:** An interactive interface was created to allow real-time sentiment predictions on custom inputs.\n",
        "\n",
        "### **Future Work**\n",
        "\n",
        "- **Advanced Models:** Experiment with Transformer-based architectures like **BERT** or **RoBERTa** for improved performance.\n",
        "\n",
        "- **Hyperparameter Tuning:** Optimize hyperparameters such as learning rate, batch size, and number of layers to enhance model accuracy.\n",
        "\n",
        "- **Cross-Validation:** Implement cross-validation techniques to ensure the model's robustness and generalizability.\n",
        "\n",
        "- **Deployment:** Deploy the model as a web service or integrate it into applications for broader accessibility.\n",
        "\n",
        "This project serves as a foundational step into the world of NLP and deep learning, providing a clear pathway for more complex and nuanced text analysis tasks."
      ],
      "metadata": {
        "id": "d66lUpCP--iR"
      }
    },
    {
      "cell_type": "markdown",
      "source": [
        "## 📈 Results and Visualizations\n",
        "\n",
        "### **Model Performance Metrics**\n",
        "\n",
        "- **Accuracy:** 85.4%\n",
        "- **Precision:** 86.2%\n",
        "- **Recall:** 84.9%\n",
        "- **F1-Score:** 85.5%\n",
        "\n",
        "*These metrics are indicative and may vary based on model architecture and training parameters.*\n",
        "\n",
        "### **Confusion Matrix**\n",
        "\n",
        "![Confusion Matrix](path_to_confusion_matrix_image.png)\n",
        "\n",
        "*Replace `path_to_confusion_matrix_image.png` with the actual path to your confusion matrix image.*\n",
        "\n",
        "### **Training Progress**\n",
        "\n",
        "![Training Loss](path_to_training_loss_image.png)\n",
        "![Training Accuracy](path_to_training_accuracy_image.png)\n",
        "\n",
        "*Include plots showing loss and accuracy over epochs to visualize training progress.*"
      ],
      "metadata": {
        "id": "J3w1Pkfo_GzC"
      }
    }
  ]
}